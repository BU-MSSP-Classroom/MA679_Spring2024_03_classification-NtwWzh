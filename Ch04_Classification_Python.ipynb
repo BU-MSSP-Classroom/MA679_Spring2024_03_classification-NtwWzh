{
 "cells": [
  {
   "cell_type": "markdown",
   "id": "d5e13e16",
   "metadata": {},
   "source": [
    "# Class Workbook {.tabset .tabset-fade .tabset-pills}"
   ]
  },
  {
   "cell_type": "code",
   "execution_count": 25,
   "id": "25f38377",
   "metadata": {
    "Rmd_chunk_options": "echo=FALSE",
    "jupyter": {
     "output_hidden": false,
     "source_hidden": true
    },
    "kernel": "Python3",
    "tags": []
   },
   "outputs": [],
   "source": [
    "import numpy as np\n",
    "from scipy.special import expit\n",
    "import pandas as pd\n",
    "import seaborn as sns\n",
    "import math\n",
    "from matplotlib.pyplot import subplots\n",
    "import matplotlib.pyplot as plt\n",
    "#import statsmodels.api as sm\n",
    "from plotnine import *\n",
    "import plotly.express as px\n",
    "import plotly.graph_objects as go\n",
    "import statsmodels.formula.api as sm\n",
    "from sklearn.linear_model import LinearRegression\n",
    "from sklearn.linear_model import LogisticRegression\n",
    "from sklearn.model_selection import train_test_split\n",
    "from sklearn.metrics import accuracy_score, confusion_matrix, roc_auc_score, roc_curve\n",
    "import patchworklib as pw\n",
    "from mpl_toolkits.mplot3d import Axes3D\n",
    "from sklearn.metrics import recall_score\n",
    "from statsmodels.genmod.families import Binomial\n",
    "from statsmodels.genmod.families.links import logit\n",
    "import statsmodels.formula.api as smf\n",
    "from sklearn.discriminant_analysis import LinearDiscriminantAnalysis\n",
    "from sklearn.discriminant_analysis import QuadraticDiscriminantAnalysis\n",
    "from sklearn.naive_bayes import GaussianNB\n",
    "from sklearn.neighbors import KNeighborsClassifier\n",
    "#import ISLP as islp"
   ]
  },
  {
   "cell_type": "markdown",
   "id": "d5a09bf0",
   "metadata": {},
   "source": [
    "## In class activity"
   ]
  },
  {
   "cell_type": "markdown",
   "id": "20e8924e",
   "metadata": {},
   "source": [
    "### COVID-19 Survival in Mexico\n",
    "\n",
    "Your task is determining whether a patient will survive COVID-19 in Mexico.\n",
    "The original dataset comes from the [Mexican government](https://datos.gob.mx/busca/dataset/informacion-referente-a-casos-covid-19-en-mexico).  This data is a version downloaded from [Kaggle](https://www.kaggle.com/datasets/meirnizri/covid19-dataset?resource=download).  The raw dataset consists of 21 unique features and 1,048,576 unique patients. In the Boolean features, 1 means \"yes\" and 2 means \"no\". values as 97 and 99 are missing data.\n",
    "\n",
    "- sex: 1 for female and 2 for male.\n",
    "- age: of the patient.\n",
    "- classification: COVID test findings. Values 1-3 mean that the patient was diagnosed with COVID in different degrees. 4 or higher means that the patient is not a carrier of COVID or that the test is inconclusive.\n",
    "- patient type: type of care the patient received in the unit. 1 for returned home and 2 for hospitalization.\n",
    "- pneumonia: whether the patient already have air sacs inflammation or not.\n",
    "- pregnancy: whether the patient is pregnant or not.\n",
    "- diabetes: whether the patient has diabetes or not.\n",
    "- copd: Indicates whether the patient has Chronic obstructive pulmonary disease or not.\n",
    "- asthma: whether the patient has asthma or not.\n",
    "- inmsupr: whether the patient is immunosuppressed or not.\n",
    "- hypertension: whether the patient has hypertension or not.\n",
    "- cardiovascular: whether the patient has heart or blood vessels related disease.\n",
    "- renal chronic: whether the patient has chronic renal disease or not.\n",
    "- other disease: whether the patient has other disease or not.\n",
    "- obesity: whether the patient is obese or not.\n",
    "- tobacco: whether the patient is a tobacco user.\n",
    "- usmr: Indicates whether the patient treated medical units of the first, second or third level.\n",
    "- medical unit: type of institution of the National Health System that provided the care.\n",
    "- intubed: whether the patient was connected to the ventilator.\n",
    "- icu: Indicates whether the patient had been admitted to an Intensive Care Unit.\n",
    "- date died: If the patient died indicate the date of death, and 9999-99-99 otherwise."
   ]
  },
  {
   "cell_type": "code",
   "execution_count": 3,
   "id": "56ca711d",
   "metadata": {
    "kernel": "Python3",
    "tags": [
     "report_cell"
    ]
   },
   "outputs": [],
   "source": [
    "Covid_Data= pd.read_csv(\"Covid_Data.csv\")"
   ]
  },
  {
   "cell_type": "markdown",
   "id": "ace7676e",
   "metadata": {},
   "source": [
    "Creating survival variable"
   ]
  },
  {
   "cell_type": "code",
   "execution_count": 4,
   "id": "7d81ba9a",
   "metadata": {
    "kernel": "Python3",
    "tags": [
     "report_cell"
    ]
   },
   "outputs": [],
   "source": [
    "Covid_Data['SURVIVED'] = Covid_Data['DATE_DIED'].apply(lambda x: 0 if x !=\"9999-99-99\" else 1)\n"
   ]
  },
  {
   "cell_type": "markdown",
   "id": "b7c1718c",
   "metadata": {},
   "source": [
    "Gender Factoring"
   ]
  },
  {
   "cell_type": "code",
   "execution_count": 5,
   "id": "2c6e7215",
   "metadata": {
    "kernel": "Python3",
    "tags": [
     "report_cell"
    ]
   },
   "outputs": [],
   "source": [
    "#Covid_Data$SEX = factor(Covid_Data$SEX ,levels=c(1,2),labels=c(\"female\",\"male\"))\n",
    "#Covid_Data$FEMALE = 1*(Covid_Data$SEX==1)\n",
    "gender = [1,2]\n",
    "female= [1,0]\n",
    "\n",
    "Covid_Data['FEMALE'] = Covid_Data['SEX'].replace(gender, female)"
   ]
  },
  {
   "cell_type": "markdown",
   "id": "e9118308",
   "metadata": {},
   "source": [
    "Missing data are coded as 99 or 97, we need to change them to NA.  However we need to know which variable to do so before making the change."
   ]
  },
  {
   "cell_type": "code",
   "execution_count": 6,
   "id": "c80a32a1",
   "metadata": {
    "kernel": "Python3",
    "tags": [
     "report_cell"
    ]
   },
   "outputs": [],
   "source": [
    "Covid_Data_99=Covid_Data==99\n",
    "Covid_Data_99.sum(axis=0)\n",
    "Covid_Data_97=Covid_Data==97\n",
    "Covid_Data_97.sum(axis=0)\n",
    "\n",
    "## Recode missing data as NA ##\n",
    "Covid_Data.loc[Covid_Data.INTUBED >=3, 'INTUBED'] = None\n",
    "Covid_Data.loc[Covid_Data.PNEUMONIA >=3, 'PNEUMONIA'] = None\n",
    "Covid_Data.loc[Covid_Data.PREGNANT>=3, 'PREGNANT'] = None\n",
    "Covid_Data.loc[Covid_Data.ICU  >=3, 'ICU'] = None\n",
    "\n",
    "## Factor the variables\n",
    "\n",
    "levels = [1,2]\n",
    "yesno = [1,0]\n",
    "\n",
    "Covid_Data['INTUBED'] = Covid_Data['INTUBED'].replace(levels, yesno)\n",
    "Covid_Data['PNEUMONIA'] = Covid_Data['PNEUMONIA'].replace(levels, yesno)\n",
    "Covid_Data['PREGNANT'] = Covid_Data['PREGNANT'].replace(levels, yesno)\n",
    "Covid_Data['ICU'] = Covid_Data['ICU'].replace(levels, yesno)\n",
    "\n",
    "#Covid_Data$PREGNANT[Covid_Data$FEMALE == 0 & is.na(Covid_Data$PREGNANT)] =\"no\"\n",
    "Covid_Data.loc[Covid_Data.FEMALE ==0 &Covid_Data['PREGNANT'].isnull(), 'PREGNANT'] = 0"
   ]
  },
  {
   "cell_type": "markdown",
   "id": "119f0943",
   "metadata": {},
   "source": [
    "### Looking at AGE\n",
    "\n",
    "You can see a clear trend by age."
   ]
  },
  {
   "cell_type": "code",
   "execution_count": 7,
   "id": "13b38af6",
   "metadata": {
    "kernel": "Python3",
    "tags": [
     "report_cell"
    ]
   },
   "outputs": [
    {
     "data": {
      "image/png": "[encoded data removed]",
      "text/plain": [
       "<Figure size 100x100 with 5 Axes>"
      ]
     },
     "execution_count": 7,
     "metadata": {},
     "output_type": "execute_result"
    }
   ],
   "source": [
    "g = (\n",
    "ggplot(Covid_Data)+geom_bar()+aes(x=\"AGE\",fill=\"factor(SURVIVED)\")\n",
    ")\n",
    "g1 = pw.load_ggplot(g, figsize=(4,4))\n",
    "\n",
    "g = (\n",
    "ggplot(Covid_Data)+geom_bar(position=\"fill\")+aes(x=\"AGE\",fill=\"factor(SURVIVED)\")\n",
    ")\n",
    "g2 = pw.load_ggplot(g, figsize=(4,4))\n",
    "\n",
    "g12 = (g1/g2)\n",
    "g12.savefig(\"/Users/julie/Pictures/multiplots.png\")\n",
    "\n",
    "#table(Covid_Data$AGE)"
   ]
  },
  {
   "cell_type": "markdown",
   "id": "c03f45ef",
   "metadata": {},
   "source": [
    "![fig](Images/multiplots.png)\n",
    "\n",
    "Since there are very few people above 100, we will look at people above 100 as 100.  This is to make our problem easier, but it also tries to address the limit of what we can say."
   ]
  },
  {
   "cell_type": "code",
   "execution_count": 8,
   "id": "d952d7c8",
   "metadata": {
    "kernel": "Python3",
    "tags": [
     "report_cell"
    ]
   },
   "outputs": [
    {
     "data": {
      "image/png": "[encoded data removed]",
      "text/plain": [
       "<Figure size 640x480 with 1 Axes>"
      ]
     },
     "metadata": {},
     "output_type": "display_data"
    },
    {
     "data": {
      "text/plain": [
       "<Figure Size: (640 x 480)>"
      ]
     },
     "execution_count": 8,
     "metadata": {},
     "output_type": "execute_result"
    }
   ],
   "source": [
    "Covid_Data['AGE_TRUNK'] = Covid_Data['AGE']\n",
    "Covid_Data.loc[Covid_Data.AGE_TRUNK >100, 'AGE_TRUNK'] = 100\n",
    "(\n",
    "ggplot(Covid_Data)+geom_bar(position=\"fill\")+aes(x=\"AGE_TRUNK\",fill=\"factor(SURVIVED)\")\n",
    ")"
   ]
  },
  {
   "cell_type": "markdown",
   "id": "68c5f912",
   "metadata": {},
   "source": [
    "### Looking at Gender\n",
    "\n",
    "Distribution by gender and age shows differing rate for male and female that needs to be accounted for."
   ]
  },
  {
   "cell_type": "code",
   "execution_count": 9,
   "id": "373e17fc",
   "metadata": {
    "kernel": "Python3",
    "tags": [
     "report_cell"
    ]
   },
   "outputs": [
    {
     "data": {
      "image/png": "[encoded data removed]",
      "text/plain": [
       "<Figure size 640x480 with 2 Axes>"
      ]
     },
     "metadata": {},
     "output_type": "display_data"
    },
    {
     "data": {
      "text/plain": [
       "<Figure Size: (640 x 480)>"
      ]
     },
     "execution_count": 9,
     "metadata": {},
     "output_type": "execute_result"
    }
   ],
   "source": [
    "(\n",
    "\n",
    "ggplot(Covid_Data)+geom_bar(position=\"fill\")+aes(x=\"AGE_TRUNK\",fill=\"factor(SURVIVED)\")\n",
    "+facet_wrap(\"~FEMALE\")\n",
    "\n",
    ")"
   ]
  },
  {
   "cell_type": "markdown",
   "id": "e9b569f6",
   "metadata": {},
   "source": [
    "### An initial look.\n",
    "\n",
    "We fit a model with age and gender."
   ]
  },
  {
   "cell_type": "code",
   "execution_count": 10,
   "id": "63299452",
   "metadata": {
    "kernel": "Python3",
    "tags": [
     "report_cell"
    ]
   },
   "outputs": [
    {
     "name": "stdout",
     "output_type": "stream",
     "text": [
      "Optimization terminated successfully.\n",
      "         Current function value: 0.208783\n",
      "         Iterations 8\n"
     ]
    },
    {
     "data": {
      "text/plain": [
       "True"
      ]
     },
     "execution_count": 10,
     "metadata": {},
     "output_type": "execute_result"
    }
   ],
   "source": [
    "#Covid_Data$SURVIVED_bin =1*(Covid_Data$SURVIVED==\"yes\")\n",
    "glm_fit= sm.logit(\"SURVIVED~AGE_TRUNK*FEMALE\",data= Covid_Data).fit()\n",
    "glm_fit.converged"
   ]
  },
  {
   "cell_type": "markdown",
   "id": "878bb3e3",
   "metadata": {},
   "source": [
    "the model converges."
   ]
  },
  {
   "cell_type": "code",
   "execution_count": 11,
   "id": "4a3f4ecc",
   "metadata": {
    "kernel": "Python3",
    "tags": [
     "report_cell"
    ]
   },
   "outputs": [
    {
     "data": {
      "text/html": [
       "<table class=\"simpletable\">\n",
       "<caption>Logit Regression Results</caption>\n",
       "<tr>\n",
       "  <th>Dep. Variable:</th>       <td>SURVIVED</td>     <th>  No. Observations:  </th>   <td>1048575</td>  \n",
       "</tr>\n",
       "<tr>\n",
       "  <th>Model:</th>                 <td>Logit</td>      <th>  Df Residuals:      </th>   <td>1048571</td>  \n",
       "</tr>\n",
       "<tr>\n",
       "  <th>Method:</th>                 <td>MLE</td>       <th>  Df Model:          </th>   <td>     3</td>   \n",
       "</tr>\n",
       "<tr>\n",
       "  <th>Date:</th>            <td>Tue, 30 Jan 2024</td> <th>  Pseudo R-squ.:     </th>   <td>0.2040</td>   \n",
       "</tr>\n",
       "<tr>\n",
       "  <th>Time:</th>                <td>23:55:58</td>     <th>  Log-Likelihood:    </th> <td>-2.1892e+05</td>\n",
       "</tr>\n",
       "<tr>\n",
       "  <th>converged:</th>             <td>True</td>       <th>  LL-Null:           </th> <td>-2.7503e+05</td>\n",
       "</tr>\n",
       "<tr>\n",
       "  <th>Covariance Type:</th>     <td>nonrobust</td>    <th>  LLR p-value:       </th>   <td> 0.000</td>   \n",
       "</tr>\n",
       "</table>\n",
       "<table class=\"simpletable\">\n",
       "<tr>\n",
       "          <td></td>            <th>coef</th>     <th>std err</th>      <th>z</th>      <th>P>|z|</th>  <th>[0.025</th>    <th>0.975]</th>  \n",
       "</tr>\n",
       "<tr>\n",
       "  <th>Intercept</th>        <td>    5.9051</td> <td>    0.019</td> <td>  305.636</td> <td> 0.000</td> <td>    5.867</td> <td>    5.943</td>\n",
       "</tr>\n",
       "<tr>\n",
       "  <th>AGE_TRUNK</th>        <td>   -0.0725</td> <td>    0.000</td> <td> -221.107</td> <td> 0.000</td> <td>   -0.073</td> <td>   -0.072</td>\n",
       "</tr>\n",
       "<tr>\n",
       "  <th>FEMALE</th>           <td>    0.9911</td> <td>    0.032</td> <td>   31.153</td> <td> 0.000</td> <td>    0.929</td> <td>    1.054</td>\n",
       "</tr>\n",
       "<tr>\n",
       "  <th>AGE_TRUNK:FEMALE</th> <td>   -0.0060</td> <td>    0.001</td> <td>  -11.436</td> <td> 0.000</td> <td>   -0.007</td> <td>   -0.005</td>\n",
       "</tr>\n",
       "</table>"
      ],
      "text/latex": [
       "\\begin{center}\n",
       "\\begin{tabular}{lclc}\n",
       "\\toprule\n",
       "\\textbf{Dep. Variable:}    &     SURVIVED     & \\textbf{  No. Observations:  } &   1048575    \\\\\n",
       "\\textbf{Model:}            &      Logit       & \\textbf{  Df Residuals:      } &   1048571    \\\\\n",
       "\\textbf{Method:}           &       MLE        & \\textbf{  Df Model:          } &         3    \\\\\n",
       "\\textbf{Date:}             & Tue, 30 Jan 2024 & \\textbf{  Pseudo R-squ.:     } &    0.2040    \\\\\n",
       "\\textbf{Time:}             &     23:55:58     & \\textbf{  Log-Likelihood:    } & -2.1892e+05  \\\\\n",
       "\\textbf{converged:}        &       True       & \\textbf{  LL-Null:           } & -2.7503e+05  \\\\\n",
       "\\textbf{Covariance Type:}  &    nonrobust     & \\textbf{  LLR p-value:       } &     0.000    \\\\\n",
       "\\bottomrule\n",
       "\\end{tabular}\n",
       "\\begin{tabular}{lcccccc}\n",
       "                           & \\textbf{coef} & \\textbf{std err} & \\textbf{z} & \\textbf{P$> |$z$|$} & \\textbf{[0.025} & \\textbf{0.975]}  \\\\\n",
       "\\midrule\n",
       "\\textbf{Intercept}         &       5.9051  &        0.019     &   305.636  &         0.000        &        5.867    &        5.943     \\\\\n",
       "\\textbf{AGE\\_TRUNK}        &      -0.0725  &        0.000     &  -221.107  &         0.000        &       -0.073    &       -0.072     \\\\\n",
       "\\textbf{FEMALE}            &       0.9911  &        0.032     &    31.153  &         0.000        &        0.929    &        1.054     \\\\\n",
       "\\textbf{AGE\\_TRUNK:FEMALE} &      -0.0060  &        0.001     &   -11.436  &         0.000        &       -0.007    &       -0.005     \\\\\n",
       "\\bottomrule\n",
       "\\end{tabular}\n",
       "%\\caption{Logit Regression Results}\n",
       "\\end{center}"
      ],
      "text/plain": [
       "<class 'statsmodels.iolib.summary.Summary'>\n",
       "\"\"\"\n",
       "                           Logit Regression Results                           \n",
       "==============================================================================\n",
       "Dep. Variable:               SURVIVED   No. Observations:              1048575\n",
       "Model:                          Logit   Df Residuals:                  1048571\n",
       "Method:                           MLE   Df Model:                            3\n",
       "Date:                Tue, 30 Jan 2024   Pseudo R-squ.:                  0.2040\n",
       "Time:                        23:55:58   Log-Likelihood:            -2.1892e+05\n",
       "converged:                       True   LL-Null:                   -2.7503e+05\n",
       "Covariance Type:            nonrobust   LLR p-value:                     0.000\n",
       "====================================================================================\n",
       "                       coef    std err          z      P>|z|      [0.025      0.975]\n",
       "------------------------------------------------------------------------------------\n",
       "Intercept            5.9051      0.019    305.636      0.000       5.867       5.943\n",
       "AGE_TRUNK           -0.0725      0.000   -221.107      0.000      -0.073      -0.072\n",
       "FEMALE               0.9911      0.032     31.153      0.000       0.929       1.054\n",
       "AGE_TRUNK:FEMALE    -0.0060      0.001    -11.436      0.000      -0.007      -0.005\n",
       "====================================================================================\n",
       "\"\"\""
      ]
     },
     "execution_count": 11,
     "metadata": {},
     "output_type": "execute_result"
    }
   ],
   "source": [
    "glm_fit.summary()"
   ]
  },
  {
   "cell_type": "markdown",
   "id": "0847d1d9",
   "metadata": {},
   "source": [
    "Confusion matrix with a cutoff of 0.5 looks like"
   ]
  },
  {
   "cell_type": "code",
   "execution_count": 12,
   "id": "cda120c5",
   "metadata": {
    "kernel": "Python3",
    "tags": [
     "report_cell"
    ]
   },
   "outputs": [
    {
     "name": "stdout",
     "output_type": "stream",
     "text": [
      "Confusion matrix\n",
      "[[  4340  72602]\n",
      " [  7094 964539]]\n"
     ]
    },
    {
     "data": {
      "text/html": [
       "<div>\n",
       "<style scoped>\n",
       "    .dataframe tbody tr th:only-of-type {\n",
       "        vertical-align: middle;\n",
       "    }\n",
       "\n",
       "    .dataframe tbody tr th {\n",
       "        vertical-align: top;\n",
       "    }\n",
       "\n",
       "    .dataframe thead th {\n",
       "        text-align: right;\n",
       "    }\n",
       "</style>\n",
       "<table border=\"1\" class=\"dataframe\">\n",
       "  <thead>\n",
       "    <tr style=\"text-align: right;\">\n",
       "      <th></th>\n",
       "      <th>SURVIVED</th>\n",
       "      <th>col_0</th>\n",
       "      <th>Freq</th>\n",
       "    </tr>\n",
       "  </thead>\n",
       "  <tbody>\n",
       "    <tr>\n",
       "      <th>0</th>\n",
       "      <td>0</td>\n",
       "      <td>0</td>\n",
       "      <td>4340</td>\n",
       "    </tr>\n",
       "    <tr>\n",
       "      <th>1</th>\n",
       "      <td>0</td>\n",
       "      <td>1</td>\n",
       "      <td>72602</td>\n",
       "    </tr>\n",
       "    <tr>\n",
       "      <th>2</th>\n",
       "      <td>1</td>\n",
       "      <td>0</td>\n",
       "      <td>7094</td>\n",
       "    </tr>\n",
       "    <tr>\n",
       "      <th>3</th>\n",
       "      <td>1</td>\n",
       "      <td>1</td>\n",
       "      <td>964539</td>\n",
       "    </tr>\n",
       "  </tbody>\n",
       "</table>\n",
       "</div>"
      ],
      "text/plain": [
       "   SURVIVED  col_0    Freq\n",
       "0         0      0    4340\n",
       "1         0      1   72602\n",
       "2         1      0    7094\n",
       "3         1      1  964539"
      ]
     },
     "execution_count": 12,
     "metadata": {},
     "output_type": "execute_result"
    }
   ],
   "source": [
    "logit_P = glm_fit.predict(Covid_Data)#,type=\"response\"\n",
    "logit_Pred = np.where(logit_P > 0.5, 1, 0) # Probability check\n",
    "#CM= table(Covid_Data$SURVIVED_bin, logit_Pred)\n",
    "#print(CM)\n",
    "# Using confusion_matrix\n",
    "\n",
    "cf_mat = confusion_matrix(Covid_Data['SURVIVED'], logit_Pred)\n",
    "print('Confusion matrix')\n",
    "print(cf_mat)\n",
    "# Using crosstab\n",
    "pd.crosstab(Covid_Data['SURVIVED'], logit_Pred).stack().reset_index(name='Freq')"
   ]
  },
  {
   "cell_type": "markdown",
   "id": "4156ee68",
   "metadata": {},
   "source": [
    "The ROC Curve looks like"
   ]
  },
  {
   "cell_type": "code",
   "execution_count": 13,
   "id": "ba1f352c",
   "metadata": {
    "kernel": "Python3",
    "tags": [
     "report_cell"
    ]
   },
   "outputs": [
    {
     "name": "stdout",
     "output_type": "stream",
     "text": [
      "model 1 AUC score: 0.5245525067444773\n"
     ]
    },
    {
     "data": {
      "image/png": "[encoded data removed]",
      "text/plain": [
       "<Figure size 640x480 with 1 Axes>"
      ]
     },
     "metadata": {},
     "output_type": "display_data"
    }
   ],
   "source": [
    "def plot_roc_curve(true_y, y_prob):\n",
    "    \"\"\"\n",
    "    plots the roc curve based of the probabilities\n",
    "    \"\"\"\n",
    "    fpr, tpr, thresholds = roc_curve(true_y, y_prob)\n",
    "    plt.plot(fpr, tpr)\n",
    "    plt.plot([0, 1], [0, 1], color = 'black', linestyle='--',linewidth = 2)\n",
    "    plt.xlabel('False Positive Rate')\n",
    "    plt.ylabel('True Positive Rate')\n",
    "\n",
    "\n",
    "plot_roc_curve(Covid_Data['SURVIVED'], logit_Pred)\n",
    "print(f'model 1 AUC score: {roc_auc_score(Covid_Data.SURVIVED, logit_Pred)}')"
   ]
  },
  {
   "cell_type": "markdown",
   "id": "3e221168",
   "metadata": {},
   "source": [
    "It seems to be doing fairly well.\n",
    "\n",
    "Let's look at a decile plot.  Decile plot looks at prediction accuracy by the predicted probability.  Since seeing the lower probability is easier, we will look at the predicted death probability.  You can read about Decile plots here: (https://select-statistics.co.uk/blog/cumulative-gains-and-lift-curves-measuring-the-performance-of-a-marketing-campaign/)"
   ]
  },
  {
   "cell_type": "code",
   "execution_count": 14,
   "id": "81e4e027",
   "metadata": {
    "kernel": "Python3",
    "tags": [
     "report_cell"
    ]
   },
   "outputs": [
    {
     "name": "stdout",
     "output_type": "stream",
     "text": [
      "   Decile    Actual      Lift\n",
      "0       0  0.321657  4.383579\n",
      "1       1  0.169735  2.313169\n",
      "2       2  0.090321  1.230900\n",
      "3       3  0.053762  0.732673\n",
      "4       4  0.031719  0.432276\n",
      "5       5  0.020242  0.275864\n",
      "6       6  0.012893  0.175714\n",
      "7       7  0.008238  0.112271\n",
      "8       8  0.005896  0.080358\n",
      "9       9  0.009940  0.135459\n"
     ]
    },
    {
     "data": {
      "image/png": "[encoded data removed]",
      "text/plain": [
       "<Figure size 640x480 with 1 Axes>"
      ]
     },
     "metadata": {},
     "output_type": "display_data"
    }
   ],
   "source": [
    "plt.clf()\n",
    "#plot_lift_curve(Covid_Data['SURVIVED'], logit_Pred)\n",
    "revP =1-logit_P\n",
    "results = pd.DataFrame({'Actual': 1-Covid_Data['SURVIVED'], 'Predicted': logit_Pred, 'Probability': logit_P})\n",
    "\n",
    "# Creating Deciles\n",
    "results['Decile'] = pd.qcut(results['Probability'], q=10, labels=False)\n",
    "\n",
    "# Calculate the response rate for each decile\n",
    "decile_stats = results.groupby('Decile')['Actual'].mean().reset_index()\n",
    "\n",
    "# Calculate the average response rate\n",
    "average_response_rate = results['Actual'].mean()\n",
    "\n",
    "# Calculate the lift for each decile\n",
    "decile_stats['Lift'] = decile_stats['Actual'] / average_response_rate\n",
    "\n",
    "# Print the decile statistics\n",
    "print(decile_stats)\n",
    "\n",
    "ax=sns.barplot(x = \"Decile\", y = \"Actual\", data = decile_stats, order = range(0, 10),\n",
    "palette = 'Blues_r')\n",
    "ax.axhline(y = 1-Covid_Data['SURVIVED'].mean(), xmin = 0, xmax = 10,\n",
    "           color = \"red\", linestyle = \"dashed\")\n",
    "plt.show()"
   ]
  },
  {
   "cell_type": "markdown",
   "id": "236f61b3",
   "metadata": {},
   "source": [
    "This plot shows that the model does capture the riskiest patients well in the first three bins.\n",
    "\n",
    "However, when you look at the residual, there are clear signs that the model does not fit very well."
   ]
  },
  {
   "cell_type": "code",
   "execution_count": 15,
   "id": "afc46ca8",
   "metadata": {
    "kernel": "Python3",
    "tags": [
     "report_cell"
    ]
   },
   "outputs": [
    {
     "data": {
      "image/png": "[encoded data removed]",
      "text/plain": [
       "<Figure size 640x480 with 1 Axes>"
      ]
     },
     "metadata": {},
     "output_type": "display_data"
    }
   ],
   "source": [
    "def binned_resids(x, y, nclass=None):\n",
    "    if nclass is None:\n",
    "        nclass = int(np.floor(np.sqrt(len(x))))\n",
    "\n",
    "    breaks_index = np.floor(np.arange(1, nclass) * len(x) / nclass).astype(int)\n",
    "    if any(breaks_index == 0):\n",
    "        nclass = 1\n",
    "\n",
    "    x_sort = np.sort(x)\n",
    "    breaks = np.array([-np.inf])\n",
    "    if nclass > 1:\n",
    "        for i in range(nclass - 1):\n",
    "            x_lo = x_sort[breaks_index[i]]\n",
    "            x_hi = x_sort[breaks_index[i] + 1]\n",
    "\n",
    "            if x_lo == x_hi:\n",
    "                if x_lo == np.min(x):\n",
    "                    x_lo = -np.inf\n",
    "                else:\n",
    "                    x_lo = np.max(x[x < x_lo])\n",
    "\n",
    "            breaks = np.concatenate((breaks, [(x_lo + x_hi) / 2]))\n",
    "\n",
    "    elif nclass == 1:\n",
    "        x_lo = np.min(x)\n",
    "        x_hi = np.max(x)\n",
    "        breaks = np.concatenate((breaks, [(x_lo + x_hi) / 2]))\n",
    "\n",
    "    breaks = np.concatenate((breaks, [np.inf]))\n",
    "    breaks = np.unique(breaks)\n",
    "    nclass = len(breaks) - 1\n",
    "\n",
    "    output = []\n",
    "    x_binned = pd.cut(x, breaks).codes + 1\n",
    "\n",
    "    for i in range(1, nclass + 1):\n",
    "        items = np.where(x_binned == i)[0]\n",
    "        x_range = [np.min(x[items]), np.max(x[items])]\n",
    "        x_bar = np.mean(x[items])\n",
    "        y_bar = np.mean(y[items])\n",
    "        n = len(items)\n",
    "        sdev = np.std(y[items]) if len(y[items]) > 1 else 0\n",
    "\n",
    "        output.append([x_bar, y_bar, n, x_range[0], x_range[1], 2 * sdev / np.sqrt(n)])\n",
    "\n",
    "    colnames = [\"xbar\", \"ybar\", \"n\", \"x.lo\", \"x.hi\", \"2se\"]\n",
    "    output_df = pd.DataFrame(output, columns=colnames)\n",
    "\n",
    "    return {\"binned\": output_df, \"xbreaks\": None}\n",
    "\n",
    "def binnedplot(x, y, nclass=None, xlab=\"Expected Values\", ylab=\"Average residual\",\n",
    "               main=\"Binned residual plot\", cex_pts=0.8, col_pts=\"black\",\n",
    "               col_int=\"gray\", **kwargs):\n",
    "    n = len(x)\n",
    "\n",
    "    if nclass is None:\n",
    "        if n >= 100:\n",
    "            nclass = int(np.floor(np.sqrt(len(x))))\n",
    "        elif 10 < n < 100:\n",
    "            nclass = 10\n",
    "        elif n <= 10:\n",
    "            nclass = int(np.floor(n / 2))\n",
    "\n",
    "    binned_resids_result = binned_resids(x, y, nclass)\n",
    "    aa = pd.DataFrame(binned_resids_result['binned'])\n",
    "\n",
    "    plt.plot([np.min(aa['xbar']), np.max(aa['xbar'])],\n",
    "             [np.min(aa[['ybar', '2se']].values), np.max(aa[['ybar', '2se']].values)],alpha=0,\n",
    "              **kwargs)\n",
    "    #xlab=xlab, ylab=ylab,  main=main,\n",
    "    plt.axhline(0, linestyle='dashed', color='black')\n",
    "    plt.title(main)\n",
    "    plt.xlabel(xlab)\n",
    "    plt.ylabel(ylab)\n",
    "    plt.plot(aa['xbar'], aa['2se'], color=col_int)\n",
    "    plt.plot(aa['xbar'], -aa['2se'], color=col_int)\n",
    "\n",
    "    plt.scatter(aa['xbar'], aa['ybar'], marker='o', s=cex_pts, color=col_pts)\n",
    "\n",
    "    plt.show()\n",
    "\n",
    "plt.clf()\n",
    "binnedplot(glm_fit.predict(),glm_fit.resid_response)"
   ]
  },
  {
   "cell_type": "markdown",
   "id": "17921959",
   "metadata": {},
   "source": [
    "The model is not capturing the lower-risk patients; there is nonlinearity, and the very high-risk patients have some problems, too.  Given the EDA plots we've seen so far, these should not be a surprise.  So, what can we do to improve the performance of the model?"
   ]
  },
  {
   "cell_type": "markdown",
   "id": "4b96a4b4",
   "metadata": {},
   "source": [
    "### In-class activity\n",
    "\n",
    "Your goal is to use 30% of the patients as your training data and predict the outcome of the remaining patients.  It's important to note that you also need to get a prediction for patients with NA values."
   ]
  },
  {
   "cell_type": "code",
   "execution_count": 16,
   "id": "bde8bcd3",
   "metadata": {
    "kernel": "Python3",
    "tags": [
     "report_cell"
    ]
   },
   "outputs": [
    {
     "data": {
      "text/plain": [
       "0.927457156893911"
      ]
     },
     "execution_count": 16,
     "metadata": {},
     "output_type": "execute_result"
    }
   ],
   "source": [
    "# split the data\n",
    "X_train, X_test, y_train, y_test = train_test_split(Covid_Data.loc[:,Covid_Data.columns != \"SURVIVED\"], Covid_Data.loc[:,\"SURVIVED\"], test_size=0.33, random_state=42)\n",
    "\n",
    "Train_COVID = pd.concat([X_train, y_train], axis=1)\n",
    "Test_COVID = pd.concat([X_test, y_test], axis=1)\n",
    "\n",
    "compression_opts = dict(method='zip',\n",
    "                        archive_name='Train_COVID.csv')\n",
    "Train_COVID.to_csv('Train_COVID.zip', index=False,\n",
    "          compression=compression_opts)\n",
    "compression_opts2 = dict(method='zip',\n",
    "                        archive_name='Test_COVID.csv')\n",
    "Test_COVID.to_csv('Test_COVID.zip', index=False,\n",
    "          compression=compression_opts2)\n",
    "Test_COVID.to_csv('Train_COVID.csv')\n",
    "# Sanity check\n",
    "y_train.mean()\n",
    "y_test.mean()"
   ]
  },
  {
   "cell_type": "markdown",
   "id": "cc95e4d0",
   "metadata": {},
   "source": [
    "Q1. What metric will you use? Why?\n",
    "\n",
    "Your code:"
   ]
  },
  {
   "cell_type": "markdown",
   "id": "9a835fe3",
   "metadata": {},
   "source": [
    "Your answer:\n",
    "\n",
    "~~~\n",
    "I will use the Sensitivity metric. This is because if misclassifying infected patients as normal, it may cause series problem. High sensitivity will make sure infected patients are classified correctly.\n",
    "~~~\n",
    "Q2. What was your best performing model?\n",
    "\n",
    "\n",
    "Your code:"
   ]
  },
  {
   "cell_type": "code",
   "execution_count": 58,
   "id": "3d622561",
   "metadata": {
    "Rmd_chunk_options": "echo=TRUE",
    "kernel": "Python3",
    "tags": [
     "report_cell"
    ]
   },
   "outputs": [
    {
     "data": {
      "text/html": [
       "<div>\n",
       "<style scoped>\n",
       "    .dataframe tbody tr th:only-of-type {\n",
       "        vertical-align: middle;\n",
       "    }\n",
       "\n",
       "    .dataframe tbody tr th {\n",
       "        vertical-align: top;\n",
       "    }\n",
       "\n",
       "    .dataframe thead th {\n",
       "        text-align: right;\n",
       "    }\n",
       "</style>\n",
       "<table border=\"1\" class=\"dataframe\">\n",
       "  <thead>\n",
       "    <tr style=\"text-align: right;\">\n",
       "      <th></th>\n",
       "      <th>Feature</th>\n",
       "      <th>Coefficient</th>\n",
       "    </tr>\n",
       "  </thead>\n",
       "  <tbody>\n",
       "    <tr>\n",
       "      <th>3</th>\n",
       "      <td>PREGNANT</td>\n",
       "      <td>0.980989</td>\n",
       "    </tr>\n",
       "    <tr>\n",
       "      <th>1</th>\n",
       "      <td>PATIENT_TYPE</td>\n",
       "      <td>0.686490</td>\n",
       "    </tr>\n",
       "    <tr>\n",
       "      <th>15</th>\n",
       "      <td>FEMALE</td>\n",
       "      <td>0.264048</td>\n",
       "    </tr>\n",
       "    <tr>\n",
       "      <th>14</th>\n",
       "      <td>CLASIFFICATION_FINAL</td>\n",
       "      <td>0.207789</td>\n",
       "    </tr>\n",
       "    <tr>\n",
       "      <th>0</th>\n",
       "      <td>MEDICAL_UNIT</td>\n",
       "      <td>0.058193</td>\n",
       "    </tr>\n",
       "    <tr>\n",
       "      <th>12</th>\n",
       "      <td>RENAL_CHRONIC</td>\n",
       "      <td>0.003901</td>\n",
       "    </tr>\n",
       "    <tr>\n",
       "      <th>7</th>\n",
       "      <td>INMSUPR</td>\n",
       "      <td>0.002848</td>\n",
       "    </tr>\n",
       "    <tr>\n",
       "      <th>4</th>\n",
       "      <td>DIABETES</td>\n",
       "      <td>0.002499</td>\n",
       "    </tr>\n",
       "    <tr>\n",
       "      <th>8</th>\n",
       "      <td>HIPERTENSION</td>\n",
       "      <td>0.001623</td>\n",
       "    </tr>\n",
       "    <tr>\n",
       "      <th>9</th>\n",
       "      <td>OTHER_DISEASE</td>\n",
       "      <td>0.000887</td>\n",
       "    </tr>\n",
       "    <tr>\n",
       "      <th>13</th>\n",
       "      <td>TOBACCO</td>\n",
       "      <td>-0.001051</td>\n",
       "    </tr>\n",
       "    <tr>\n",
       "      <th>10</th>\n",
       "      <td>CARDIOVASCULAR</td>\n",
       "      <td>-0.003965</td>\n",
       "    </tr>\n",
       "    <tr>\n",
       "      <th>11</th>\n",
       "      <td>OBESITY</td>\n",
       "      <td>-0.004154</td>\n",
       "    </tr>\n",
       "    <tr>\n",
       "      <th>5</th>\n",
       "      <td>COPD</td>\n",
       "      <td>-0.004288</td>\n",
       "    </tr>\n",
       "    <tr>\n",
       "      <th>6</th>\n",
       "      <td>ASTHMA</td>\n",
       "      <td>-0.009788</td>\n",
       "    </tr>\n",
       "    <tr>\n",
       "      <th>16</th>\n",
       "      <td>AGE_TRUNK</td>\n",
       "      <td>-0.036186</td>\n",
       "    </tr>\n",
       "    <tr>\n",
       "      <th>2</th>\n",
       "      <td>PNEUMONIA</td>\n",
       "      <td>-0.808491</td>\n",
       "    </tr>\n",
       "  </tbody>\n",
       "</table>\n",
       "</div>"
      ],
      "text/plain": [
       "                 Feature  Coefficient\n",
       "3               PREGNANT     0.980989\n",
       "1           PATIENT_TYPE     0.686490\n",
       "15                FEMALE     0.264048\n",
       "14  CLASIFFICATION_FINAL     0.207789\n",
       "0           MEDICAL_UNIT     0.058193\n",
       "12         RENAL_CHRONIC     0.003901\n",
       "7                INMSUPR     0.002848\n",
       "4               DIABETES     0.002499\n",
       "8           HIPERTENSION     0.001623\n",
       "9          OTHER_DISEASE     0.000887\n",
       "13               TOBACCO    -0.001051\n",
       "10        CARDIOVASCULAR    -0.003965\n",
       "11               OBESITY    -0.004154\n",
       "5                   COPD    -0.004288\n",
       "6                 ASTHMA    -0.009788\n",
       "16             AGE_TRUNK    -0.036186\n",
       "2              PNEUMONIA    -0.808491"
      ]
     },
     "execution_count": 58,
     "metadata": {},
     "output_type": "execute_result"
    }
   ],
   "source": [
    "#Creating instance of logistic regression\n",
    "logit_model = LogisticRegression(max_iter=1000)\n",
    "\n",
    "#Training the model\n",
    "logit_model.fit(X_train, y_train)\n",
    "feature_names = X_train.columns\n",
    "coefficients = logit_model.coef_[0]\n",
    "\n",
    "coeff_df = pd.DataFrame({'Feature': feature_names, 'Coefficient': coefficients})\n",
    "coeff_df.sort_values(by='Coefficient', ascending=False)"
   ]
  },
  {
   "cell_type": "markdown",
   "id": "24eb2d6d",
   "metadata": {},
   "source": [
    "Your answer:\n",
    "\n",
    "~~~\n",
    "I use the logsitic regression here. Since logsitic regression model is always used in the medical field.\n",
    "~~~\n",
    "\n",
    "Q3. Explain how you got the model in detail.\n",
    "\n",
    "\n",
    "Your code:"
   ]
  },
  {
   "cell_type": "markdown",
   "id": "112a4508",
   "metadata": {},
   "source": [
    "Your answer:\n",
    "\n",
    "~~~\n",
    "First, the data is split into train and test, and then I set interation into 1000 to make sure there is enough interation to converge. Then, train the model and get the coefficient\n",
    "\n",
    "\n",
    "~~~\n",
    "\n",
    "Q4. Based on your model, what factor seems to be important in deciding if a patient survives or not.\n",
    "\n",
    "Your code:"
   ]
  },
  {
   "cell_type": "code",
   "execution_count": 61,
   "id": "9d68dff8",
   "metadata": {
    "Rmd_chunk_options": "echo=TRUE",
    "kernel": "Python3",
    "tags": [
     "report_cell"
    ]
   },
   "outputs": [
    {
     "data": {
      "text/html": [
       "<div>\n",
       "<style scoped>\n",
       "    .dataframe tbody tr th:only-of-type {\n",
       "        vertical-align: middle;\n",
       "    }\n",
       "\n",
       "    .dataframe tbody tr th {\n",
       "        vertical-align: top;\n",
       "    }\n",
       "\n",
       "    .dataframe thead th {\n",
       "        text-align: right;\n",
       "    }\n",
       "</style>\n",
       "<table border=\"1\" class=\"dataframe\">\n",
       "  <thead>\n",
       "    <tr style=\"text-align: right;\">\n",
       "      <th></th>\n",
       "      <th>Feature</th>\n",
       "      <th>Coefficient</th>\n",
       "    </tr>\n",
       "  </thead>\n",
       "  <tbody>\n",
       "    <tr>\n",
       "      <th>3</th>\n",
       "      <td>PREGNANT</td>\n",
       "      <td>0.980989</td>\n",
       "    </tr>\n",
       "    <tr>\n",
       "      <th>1</th>\n",
       "      <td>PATIENT_TYPE</td>\n",
       "      <td>0.686490</td>\n",
       "    </tr>\n",
       "    <tr>\n",
       "      <th>15</th>\n",
       "      <td>FEMALE</td>\n",
       "      <td>0.264048</td>\n",
       "    </tr>\n",
       "    <tr>\n",
       "      <th>14</th>\n",
       "      <td>CLASIFFICATION_FINAL</td>\n",
       "      <td>0.207789</td>\n",
       "    </tr>\n",
       "    <tr>\n",
       "      <th>0</th>\n",
       "      <td>MEDICAL_UNIT</td>\n",
       "      <td>0.058193</td>\n",
       "    </tr>\n",
       "    <tr>\n",
       "      <th>12</th>\n",
       "      <td>RENAL_CHRONIC</td>\n",
       "      <td>0.003901</td>\n",
       "    </tr>\n",
       "    <tr>\n",
       "      <th>7</th>\n",
       "      <td>INMSUPR</td>\n",
       "      <td>0.002848</td>\n",
       "    </tr>\n",
       "    <tr>\n",
       "      <th>4</th>\n",
       "      <td>DIABETES</td>\n",
       "      <td>0.002499</td>\n",
       "    </tr>\n",
       "    <tr>\n",
       "      <th>8</th>\n",
       "      <td>HIPERTENSION</td>\n",
       "      <td>0.001623</td>\n",
       "    </tr>\n",
       "    <tr>\n",
       "      <th>9</th>\n",
       "      <td>OTHER_DISEASE</td>\n",
       "      <td>0.000887</td>\n",
       "    </tr>\n",
       "    <tr>\n",
       "      <th>13</th>\n",
       "      <td>TOBACCO</td>\n",
       "      <td>-0.001051</td>\n",
       "    </tr>\n",
       "    <tr>\n",
       "      <th>10</th>\n",
       "      <td>CARDIOVASCULAR</td>\n",
       "      <td>-0.003965</td>\n",
       "    </tr>\n",
       "    <tr>\n",
       "      <th>11</th>\n",
       "      <td>OBESITY</td>\n",
       "      <td>-0.004154</td>\n",
       "    </tr>\n",
       "    <tr>\n",
       "      <th>5</th>\n",
       "      <td>COPD</td>\n",
       "      <td>-0.004288</td>\n",
       "    </tr>\n",
       "    <tr>\n",
       "      <th>6</th>\n",
       "      <td>ASTHMA</td>\n",
       "      <td>-0.009788</td>\n",
       "    </tr>\n",
       "    <tr>\n",
       "      <th>16</th>\n",
       "      <td>AGE_TRUNK</td>\n",
       "      <td>-0.036186</td>\n",
       "    </tr>\n",
       "    <tr>\n",
       "      <th>2</th>\n",
       "      <td>PNEUMONIA</td>\n",
       "      <td>-0.808491</td>\n",
       "    </tr>\n",
       "  </tbody>\n",
       "</table>\n",
       "</div>"
      ],
      "text/plain": [
       "                 Feature  Coefficient\n",
       "3               PREGNANT     0.980989\n",
       "1           PATIENT_TYPE     0.686490\n",
       "15                FEMALE     0.264048\n",
       "14  CLASIFFICATION_FINAL     0.207789\n",
       "0           MEDICAL_UNIT     0.058193\n",
       "12         RENAL_CHRONIC     0.003901\n",
       "7                INMSUPR     0.002848\n",
       "4               DIABETES     0.002499\n",
       "8           HIPERTENSION     0.001623\n",
       "9          OTHER_DISEASE     0.000887\n",
       "13               TOBACCO    -0.001051\n",
       "10        CARDIOVASCULAR    -0.003965\n",
       "11               OBESITY    -0.004154\n",
       "5                   COPD    -0.004288\n",
       "6                 ASTHMA    -0.009788\n",
       "16             AGE_TRUNK    -0.036186\n",
       "2              PNEUMONIA    -0.808491"
      ]
     },
     "execution_count": 61,
     "metadata": {},
     "output_type": "execute_result"
    }
   ],
   "source": [
    "logit_model.fit(X_train, y_train)\n",
    "feature_names = X_train.columns\n",
    "coefficients = logit_model.coef_[0]\n",
    "\n",
    "coeff_df = pd.DataFrame({'Feature': feature_names, 'Coefficient': coefficients})\n",
    "coeff_df.sort_values(by='Coefficient', ascending=False)\n"
   ]
  },
  {
   "cell_type": "markdown",
   "id": "a0ebf060",
   "metadata": {},
   "source": [
    "Your answer:\n",
    "\n",
    "~~~\n",
    "PREGNANT and PNEUMONIA. This is because PREGNANT has the highest coefficient value, which means that if pregnant, the survived rate will increase. Since PNEUMONIA has the lowest coefficient vaule, it can be concluded that if having pneumonia will largely decrease the survival rate\n",
    "\n",
    "\n",
    "~~~"
   ]
  },
  {
   "cell_type": "markdown",
   "id": "7642c6ff",
   "metadata": {},
   "source": [
    "## Problem Set"
   ]
  },
  {
   "cell_type": "markdown",
   "id": "7dcc306a",
   "metadata": {},
   "source": [
    "### Auto Data\n",
    "\n",
    "In this problem, you will develop a model to predict whether a given car gets high or low gas mileage based on the `Auto` data set.\n",
    "\n",
    "(a) Create a binary variable, mpg01, that contains a 1 if mpg contains\n",
    "a value above its median, and a 0 if mpg contains a value below\n",
    "its median. You can compute the median using the median()\n",
    "method of the data frame. Note you may find it helpful to add\n",
    "a column mpg01 to the data frame by assignment. Assuming you\n",
    "have stored the data frame as Auto, this can be done as follows:"
   ]
  },
  {
   "cell_type": "code",
   "execution_count": 7,
   "id": "cb693122",
   "metadata": {
    "Rmd_chunk_options": "eval=FALSE",
    "kernel": "Python3",
    "tags": [
     "report_cell"
    ]
   },
   "outputs": [],
   "source": [
    "Auto= pd.read_csv(\"Auto.csv\")"
   ]
  },
  {
   "cell_type": "markdown",
   "id": "964e65ff",
   "metadata": {},
   "source": [
    "Your code:"
   ]
  },
  {
   "cell_type": "code",
   "execution_count": 10,
   "id": "655edd97",
   "metadata": {
    "Rmd_chunk_options": "echo=TRUE",
    "kernel": "Python3",
    "tags": [
     "report_cell"
    ]
   },
   "outputs": [],
   "source": [
    "mpg_median = Auto['mpg'].median()\n",
    "Auto['mpg01'] = (Auto['mpg'] > mpg_median).astype(int)"
   ]
  },
  {
   "cell_type": "markdown",
   "id": "cde1135d",
   "metadata": {},
   "source": [
    "Your answer:\n",
    "\n",
    "~~~\n",
    "Please write your answer in full sentences.\n",
    "\n",
    "\n",
    "~~~\n",
    "\n",
    "\n",
    "(b) Explore the data graphically in order to investigate the association\n",
    "between mpg01 and the other features. Which of the other\n",
    "features seem most likely to be useful in predicting mpg01? Scatterplots\n",
    "and boxplots may be useful tools to answer this question.\n",
    "Describe your findings.\n",
    "\n",
    "(c) Split the data into a training set and a test set.\n",
    "\n",
    "Your code:"
   ]
  },
  {
   "cell_type": "code",
   "execution_count": 13,
   "id": "9343eda1",
   "metadata": {
    "Rmd_chunk_options": "echo=TRUE",
    "kernel": "Python3",
    "tags": [
     "report_cell"
    ]
   },
   "outputs": [
    {
     "data": {
      "image/png": "[encoded data removed]",
      "text/plain": [
       "<Figure size 2000x1500 with 7 Axes>"
      ]
     },
     "metadata": {},
     "output_type": "display_data"
    }
   ],
   "source": [
    "selected_features = ['cylinders', 'displacement', 'horsepower', 'weight', 'acceleration', 'year', 'origin']\n",
    "\n",
    "plt.figure(figsize=(20, 15))\n",
    "for i, feature in enumerate(selected_features, 1):\n",
    "    plt.subplot(3, 3, i)\n",
    "    sns.boxplot(x=Auto['mpg01'], y=Auto[feature])\n",
    "    plt.title(f'Boxplot of mpg01 vs {feature}')\n",
    "\n",
    "plt.tight_layout()\n",
    "plt.show()\n",
    "\n",
    "#split the data\n",
    "X = Auto[selected_features]\n",
    "y = Auto['mpg01']\n",
    "X_train, X_test, y_train, y_test = train_test_split(X, y, test_size=0.33, random_state=42)"
   ]
  },
  {
   "cell_type": "markdown",
   "id": "9f7449ee",
   "metadata": {},
   "source": [
    "Your answer:\n",
    "\n",
    "~~~\n",
    "From the boxplot, we can see there are differences. If the car is newer, it will have a  higher mpg. Also, lower weight and displacement will lead to higher mpg too.\n",
    "\n",
    "\n",
    "~~~\n",
    "\n",
    "\n",
    "(d) Perform LDA on the training data in order to predict `mpg01` using the variables that seemed most associated with `mpg01` in (b). What is the test error of the model obtained?\n",
    "\n",
    "Your code:"
   ]
  },
  {
   "cell_type": "code",
   "execution_count": 17,
   "id": "7c781971",
   "metadata": {
    "Rmd_chunk_options": "echo=TRUE",
    "kernel": "Python3",
    "tags": [
     "report_cell"
    ]
   },
   "outputs": [
    {
     "name": "stdout",
     "output_type": "stream",
     "text": [
      "0.17692307692307696\n"
     ]
    }
   ],
   "source": [
    "lda = LinearDiscriminantAnalysis()\n",
    "\n",
    "lda.fit(X_train[['weight', 'displacement']], y_train)\n",
    "\n",
    "y_pred = lda.predict(X_test[['weight', 'displacement']])\n",
    "\n",
    "test_error = 1 - accuracy_score(y_test, y_pred)\n",
    "\n",
    "print(test_error)\n"
   ]
  },
  {
   "cell_type": "markdown",
   "id": "dcfcd23b",
   "metadata": {},
   "source": [
    "Your answer:\n",
    "\n",
    "~~~\n",
    "The test error is 0.1769, meaning that there is a 0.8231 accuracy on the test\n",
    "\n",
    "\n",
    "~~~\n",
    "\n",
    "\n",
    "(e) Perform QDA on the training data in order to predict `mpg01` using the variables that seemed most associated with `mpg01` in (b). What is the test error of the model obtained?\n",
    "\n",
    "Your code:"
   ]
  },
  {
   "cell_type": "code",
   "execution_count": 19,
   "id": "86a7dadc",
   "metadata": {
    "Rmd_chunk_options": "echo=TRUE",
    "kernel": "Python3",
    "tags": [
     "report_cell"
    ]
   },
   "outputs": [
    {
     "name": "stdout",
     "output_type": "stream",
     "text": [
      "0.1461538461538462\n"
     ]
    }
   ],
   "source": [
    "qda = QuadraticDiscriminantAnalysis()\n",
    "qda.fit(X_train[['weight', 'displacement']], y_train)\n",
    "\n",
    "y_pred_qda = qda.predict(X_test[['weight', 'displacement']])\n",
    "\n",
    "test_error = 1 - accuracy_score(y_test, y_pred_qda)\n",
    "\n",
    "print(test_error)"
   ]
  },
  {
   "cell_type": "markdown",
   "id": "bfe24172",
   "metadata": {},
   "source": [
    "Your answer:\n",
    "\n",
    "~~~\n",
    "The test error is 0.1462, meaning that there is a 0.8538 accuracy on the test\n",
    "\n",
    "\n",
    "\n",
    "~~~\n",
    "\n",
    "\n",
    "(f) Perform logistic regression on the training data in order to predict `mpg01` using the variables that seemed most associated with `mpg01` in (b). What is the test error of the model obtained?\n",
    "\n",
    "Your code:"
   ]
  },
  {
   "cell_type": "code",
   "execution_count": 21,
   "id": "23af8636",
   "metadata": {
    "Rmd_chunk_options": "echo=TRUE",
    "kernel": "Python3",
    "tags": [
     "report_cell"
    ]
   },
   "outputs": [
    {
     "name": "stdout",
     "output_type": "stream",
     "text": [
      "0.16153846153846152\n"
     ]
    }
   ],
   "source": [
    "log_reg = LogisticRegression()\n",
    "log_reg.fit(X_train[['weight', 'displacement']], y_train)\n",
    "\n",
    "y_pred_log = log_reg.predict(X_test[['weight', 'displacement']])\n",
    "\n",
    "test_error = 1 - accuracy_score(y_test, y_pred_log)\n",
    "\n",
    "print(test_error)"
   ]
  },
  {
   "cell_type": "markdown",
   "id": "425cd969",
   "metadata": {},
   "source": [
    "Your answer:\n",
    "\n",
    "~~~\n",
    "The test error is 0.1615, meaning that there is a 0.8385 accuracy on the test\n",
    "\n",
    "\n",
    "~~~\n",
    "\n",
    "\n",
    "(g) Perform naive Bayes on the training data in order to predict `mpg01` using the variables that seemed most associated with `mpg01` in (b). What is the test error of the model obtained?\n",
    "\n",
    "Your code:"
   ]
  },
  {
   "cell_type": "code",
   "execution_count": 24,
   "id": "7fd6d69c",
   "metadata": {
    "Rmd_chunk_options": "echo=TRUE",
    "kernel": "Python3",
    "tags": [
     "report_cell"
    ]
   },
   "outputs": [
    {
     "name": "stdout",
     "output_type": "stream",
     "text": [
      "0.16153846153846152\n"
     ]
    }
   ],
   "source": [
    "naive_bayes = GaussianNB()\n",
    "naive_bayes.fit(X_train[['weight', 'displacement']], y_train)\n",
    "\n",
    "y_pred_bayes = naive_bayes.predict(X_test[['weight', 'displacement']])\n",
    "\n",
    "test_error = 1 - accuracy_score(y_test, y_pred_bayes)\n",
    "\n",
    "print(test_error)"
   ]
  },
  {
   "cell_type": "code",
   "execution_count": null,
   "id": "0ca3c2f9",
   "metadata": {},
   "outputs": [],
   "source": []
  },
  {
   "cell_type": "markdown",
   "id": "d4bb4363",
   "metadata": {},
   "source": [
    "Your answer:\n",
    "\n",
    "~~~\n",
    "The test error is 0.1615, meaning that there is a 0.8385 accuracy on the test\n",
    "\n",
    "\n",
    "\n",
    "~~~\n",
    "\n",
    "\n",
    "(h) Perform KNN on the training data, with several values of K, in order to predict `mpg01`. Use only the variables that seemed most associated with `mpg01` in (b). What test errors do you obtain? Which value of K seems to perform the best on this data set?\n",
    "\n",
    "Your code:"
   ]
  },
  {
   "cell_type": "code",
   "execution_count": 27,
   "id": "b03f09f2",
   "metadata": {
    "Rmd_chunk_options": "echo=TRUE",
    "kernel": "Python3",
    "tags": [
     "report_cell"
    ]
   },
   "outputs": [
    {
     "name": "stdout",
     "output_type": "stream",
     "text": [
      "{1: 0.1461538461538462, 3: 0.1461538461538462, 5: 0.16923076923076918, 7: 0.17692307692307696, 9: 0.17692307692307696}\n"
     ]
    }
   ],
   "source": [
    "k_values = [1, 3, 5, 7, 9]\n",
    "\n",
    "test_errors = {}\n",
    "\n",
    "for k in k_values:\n",
    "    knn = KNeighborsClassifier(n_neighbors=k)\n",
    "    knn.fit(X_train[['weight', 'displacement']], y_train)\n",
    "    \n",
    "    y_pred_knn = knn.predict(X_test[['weight', 'displacement']])\n",
    "    \n",
    "    test_error = 1 - accuracy_score(y_test, y_pred_knn)\n",
    "    \n",
    "    test_errors[k] = test_error\n",
    "\n",
    "print(test_errors)\n"
   ]
  },
  {
   "cell_type": "markdown",
   "id": "8724f277",
   "metadata": {},
   "source": [
    "Your answer:\n",
    "\n",
    "~~~\n",
    "When k=1 and k =3, it gives the lowest value, which means that 'weight' and 'displacement' preformed the best.\n",
    "\n",
    "\n",
    "~~~"
   ]
  },
  {
   "cell_type": "markdown",
   "id": "2b5a5efc",
   "metadata": {},
   "source": [
    "## Additional Material"
   ]
  },
  {
   "cell_type": "markdown",
   "id": "0d8fce0f",
   "metadata": {},
   "source": [
    "### Classification using ML platforms\n",
    "\n",
    "Using the COVID Data"
   ]
  },
  {
   "cell_type": "markdown",
   "id": "de2d93eb",
   "metadata": {},
   "source": [
    "#### Classification using sklearn"
   ]
  },
  {
   "cell_type": "code",
   "execution_count": 29,
   "id": "ab08dd95",
   "metadata": {
    "kernel": "Python3",
    "tags": [
     "report_cell"
    ]
   },
   "outputs": [],
   "source": [
    "# split the data\n",
    "cols=[\"MEDICAL_UNIT\",\"PATIENT_TYPE\",\"PNEUMONIA\",\"PREGNANT\",\"DIABETES\",\"COPD\",\"ASTHMA\",\"INMSUPR\",\"HIPERTENSION\",\"OTHER_DISEASE\",\"CARDIOVASCULAR\",\"OBESITY\",\"RENAL_CHRONIC\",\"TOBACCO\",\"CLASIFFICATION_FINAL\",\"FEMALE\",\"AGE_TRUNK\"]\n",
    "\n",
    "# Not recommended, but for now.\n",
    "Covid_Data_comp = Covid_Data.dropna()\n",
    "X_train, X_test, y_train, y_test = train_test_split(Covid_Data_comp.loc[:,cols], Covid_Data_comp.loc[:,\"SURVIVED\"], test_size=0.33, random_state=42)\n",
    "\n",
    "Train_COVID = pd.concat([X_train, y_train], axis=1)\n",
    "Test_COVID = pd.concat([X_test, y_test], axis=1)\n",
    "\n",
    "# Not recommended, but for now.\n",
    "train_df = Train_COVID.dropna()\n",
    "test_df= Test_COVID.dropna()"
   ]
  },
  {
   "cell_type": "code",
   "execution_count": 30,
   "id": "66658a57",
   "metadata": {
    "kernel": "Python3",
    "tags": [
     "report_cell"
    ]
   },
   "outputs": [
    {
     "data": {
      "text/plain": [
       "array([[0.29708794, 0.70291206],\n",
       "       [0.58387686, 0.41612314],\n",
       "       [0.22914197, 0.77085803],\n",
       "       ...,\n",
       "       [0.29168421, 0.70831579],\n",
       "       [0.34396355, 0.65603645],\n",
       "       [0.6843914 , 0.3156086 ]])"
      ]
     },
     "execution_count": 30,
     "metadata": {},
     "output_type": "execute_result"
    }
   ],
   "source": [
    "clf = LogisticRegression(random_state=0).fit(X_train, y_train)\n",
    "clf.predict(X_test)\n",
    "clf.predict_proba(X_test)"
   ]
  },
  {
   "cell_type": "markdown",
   "id": "69bdc349",
   "metadata": {},
   "source": [
    "#### Classification using h2o"
   ]
  },
  {
   "cell_type": "code",
   "execution_count": 31,
   "id": "51292aef",
   "metadata": {
    "Rmd_chunk_options": "eval=FALSE",
    "kernel": "Python3",
    "tags": [
     "report_cell"
    ]
   },
   "outputs": [
    {
     "ename": "ModuleNotFoundError",
     "evalue": "No module named 'h2o'",
     "output_type": "error",
     "traceback": [
      "\u001b[0;31m---------------------------------------------------------------------------\u001b[0m",
      "\u001b[0;31mModuleNotFoundError\u001b[0m                       Traceback (most recent call last)",
      "Cell \u001b[0;32mIn[31], line 2\u001b[0m\n\u001b[1;32m      1\u001b[0m \u001b[38;5;66;03m# load packages and data\u001b[39;00m\n\u001b[0;32m----> 2\u001b[0m \u001b[38;5;28;01mimport\u001b[39;00m \u001b[38;5;21;01mh2o\u001b[39;00m\n\u001b[1;32m      3\u001b[0m localH2O \u001b[38;5;241m=\u001b[39m h2o\u001b[38;5;241m.\u001b[39minit(nthreads \u001b[38;5;241m=\u001b[39m \u001b[38;5;241m-\u001b[39m\u001b[38;5;241m1\u001b[39m, max_mem_size\u001b[38;5;241m=\u001b[39m\u001b[38;5;124m\"\u001b[39m\u001b[38;5;124m4g\u001b[39m\u001b[38;5;124m\"\u001b[39m)\n",
      "\u001b[0;31mModuleNotFoundError\u001b[0m: No module named 'h2o'"
     ]
    }
   ],
   "source": [
    "# load packages and data\n",
    "import h2o\n",
    "localH2O = h2o.init(nthreads = -1, max_mem_size=\"4g\")"
   ]
  },
  {
   "cell_type": "markdown",
   "id": "cd8e2867",
   "metadata": {},
   "source": [
    "Serving the data to H2O"
   ]
  },
  {
   "cell_type": "code",
   "execution_count": null,
   "id": "f7445260",
   "metadata": {
    "Rmd_chunk_options": "eval=FALSE",
    "kernel": "Python3",
    "tags": [
     "report_cell"
    ]
   },
   "outputs": [],
   "source": [
    "train_hf = h2o.H2OFrame(train_df)\n",
    "test_hf = h2o.H2OFrame(test_df)"
   ]
  },
  {
   "cell_type": "markdown",
   "id": "5410d66d",
   "metadata": {},
   "source": [
    "Model fitting"
   ]
  },
  {
   "cell_type": "code",
   "execution_count": null,
   "id": "61cabed9",
   "metadata": {
    "Rmd_chunk_options": "h2o_fit_glm,eval=FALSE",
    "kernel": "Python3",
    "tags": [
     "report_cell"
    ]
   },
   "outputs": [],
   "source": [
    "from h2o.estimators.glm import H2OGeneralizedLinearEstimator\n",
    "\n",
    "logistic_model = H2OGeneralizedLinearEstimator(                               #response variable\n",
    "                        #predictor variables\n",
    "                      training_frame = train_hf,                  #data\n",
    "                      family = \"binomial\")           #specify the dist. of y and penalty parameter: lambda\n",
    "logistic_model.train(y = \"SURVIVED\",x = cols)\n",
    "\n",
    "prediction=logistic_model.predict(test_hf)\n",
    "\n",
    "h2o.cluster().shutdown(prompt =False)"
   ]
  },
  {
   "cell_type": "markdown",
   "id": "15225f44",
   "metadata": {},
   "source": [
    "## Advanced Content"
   ]
  },
  {
   "cell_type": "markdown",
   "id": "f3fc553b",
   "metadata": {},
   "source": [
    "### Classification\n",
    "\n",
    "The classification was originally a subject of interest to computer science and, more recently, to machine learning.  In classification, we have a setting similar to a regression. The most significant difference is response $y_i$ is categorical, usually $\\{0,1\\}$ or $\\{-1,1\\}$.  The predictors in regression are called features.  Classification aims to learn a model that returns a response class from given accurate features.\n",
    "\n",
    "For training stage, set of observations $(x_1,y_1),(x_2,y_2),\\cdots,(x_n,y_n)\\stackrel{iid}{\\sim}p(x,y)$ are used to train classifier $f(x)$, similar to estimating $w$ in regression.  And in the testing stage, we observe a set of observations $(x,y)\\stackrel{iid}{\\sim}p(x,y)$, which come from the same distribution as the training data but are independent of the training dataset.  The hope is the learned $\\hat{f}(x)$ is close to $y$, which is similar to prediction in regression."
   ]
  },
  {
   "cell_type": "markdown",
   "id": "c2141753",
   "metadata": {},
   "source": [
    "#### Perceptron\n",
    "\n",
    "Let's look at a historical classifier called perceptron (1943).  We observe data as\n",
    "\n",
    "| observation | feature 1 | feature 2 | $\\cdots$  | feature p | response |\n",
    "|:-----------:|:---------:|:---------:|:---------:|:---------:|:--------:|\n",
    "| 1           | $x_{11}$  | $x_{12}$  | $\\cdots$  | $x_{1p}$  | $y_1$    |\n",
    "| 2           | $x_{21}$  | $x_{22}$  | $\\cdots$  | $x_{2p}$  | $y_2$    |\n",
    "| $\\vdots$    | $\\vdots$  | $\\vdots$  | $\\ddots$  | $\\vdots$  | $\\vdots$ |\n",
    "| n           | $x_{n1}$  | $x_{n2}$  | $\\cdots$  | $x_{np}$  | $y_n$    |\n",
    "| &nbsp;      | $X_{1}$   | $X_{2}$   | $\\cdots$  | $X_{p}$   | $Y$      |\n",
    "\n",
    "$$\n",
    "X=\\left[\n",
    "\\begin{array}{cccc}\n",
    "X_{1}&X_{2}&\\cdots &X_{p} \\\\\n",
    "\\end{array}\n",
    "\\right]\n",
    "\\verb|, |\n",
    "X_i.=\\left[1,x_{i1},x_{i2},\\cdots,x_{ip}\\right]\n",
    "\\verb|, and |\n",
    "w=\\left[\n",
    "\\begin{array}{c}\n",
    "w_{0} \\\\\n",
    "\\vdots\\\\\n",
    "w_{p} \\\\\n",
    "\\end{array}\n",
    "\\right]\n",
    "$$\n",
    "\n",
    "where $y_i\\in \\{+1,-1\\}$, $\\mathbf{x}_{i}$ is the $i$th row of the $X$ matrix concatenated with a vector of 1 with length n on the left side.\n",
    "\n",
    "The perceptron classifier is defined as\n",
    "$$f(x)=sgn(w_0+w_1 x_1+\\cdots+w_px_p)$$\n",
    "where $sgn(y)$ is nonlinear transformation defined as\n",
    "\\begin{eqnarray}\n",
    "sgn(y_i)\\left\\{\n",
    "\\begin{array}{ll}\n",
    "+1 & \\mbox{ if }y_i\\geq 0\\\\\n",
    "-1 & \\mbox{ if } y_i <0\n",
    "\\end{array}\n",
    "\\right.\n",
    "\\end{eqnarray}\n",
    "\n",
    "Note that $sgn()$ is a step function that returns one of two values.  If we use 0/1 instead of -1/1 and if we smooth out the transformation function using a sigmoidal function or the inverse logit function, we get logistic regression.\n",
    "\n",
    "Like any regression, we can define training loss.  The training error is defined as the percentage of misclassified examples.\n",
    "$$\n",
    "\\frac{1}{n}\\sum^n_{i=1}1_{y_i\\neq sgn(\\mathbf{x}_i\\mathbf{w})}\n",
    "$$\n",
    "We aim to find weights $w$ so that this function is minimized.  But this loss function is not continuous, nor is it convex.  If you try to calculate the derivative, it's 0 for the most part.  So simple as this problem may seem, you cannot use gradient descent.  Rosenblatt initially used the following iterative algorithm to solve the problem.\n",
    "\n",
    "1. Choose $w_{(0)}$ at random, choose the learning rate $\\eta$\n",
    "2. For every epoch (iteration) $t$ and sample $i$ update $w_t$ as\n",
    "$$w_{(t+1)}=w_{(t)} −\\eta \\Delta w \\mathbf{x}_i$$\n",
    "where\n",
    "\\begin{eqnarray}\n",
    "\\Delta w \\left\\{\n",
    "    \\begin{array}{l}\n",
    "    1 \\mbox{ if } y_i=1 \\mbox{ and } \\hat{y}_i= −1\\\\\n",
    "    -1 \\mbox{ if } y_i  =-1 \\mbox{ and } \\hat{y}_i=1\n",
    "    \\end{array}\n",
    "    \\right.\n",
    "\\end{eqnarray}\n",
    "\n",
    "3. Stop when $|w_{(t+1)}−w_{(t)} |<\\epsilon$"
   ]
  },
  {
   "cell_type": "markdown",
   "id": "e927c008",
   "metadata": {},
   "source": [
    "#### Surrogate loss function\n",
    "\n",
    "If we can't solve a challenging problem, we can approach it using simple approximation.\n",
    "Since we know how to take the derivative of squared error loss, we can turn the perceptron problem into a linear regression problem.\n",
    "$$\n",
    "\\frac{1}{n}\\sum^n_{i=1}(y_i - \\mathbf{x}_i^T\\mathbf{w})^2\n",
    "$$\n",
    "\n",
    "which would give us the $\\hat{\\mathbf{w}}$ that minimizes MSE is our usual LS estimator.\n",
    "$$\\hat{\\mathbf{w}}_{MSE}=(\\mathbf{X}^T\\mathbf{X})^{-1}\\mathbf{X}^T \\mathbf{y}$$\n",
    "But does it work?  Let's see an example.  Here, we have a simple two-class classification problem using the iris data.  The goal is to find a line that separates the two classes (setosa vs versicolor).  Setosa (blue) and versicolor (red) have distinctive features, so they are well separated by just looking at the petals."
   ]
  },
  {
   "cell_type": "code",
   "execution_count": null,
   "id": "14ebb1fb",
   "metadata": {
    "Rmd_chunk_options": "echo=FALSE",
    "jupyter": {
     "output_hidden": false,
     "source_hidden": true
    },
    "kernel": "Python3",
    "tags": [
     "report_output"
    ]
   },
   "outputs": [],
   "source": [
    "def make_grid(x, length_out=10):\n",
    "    rx = np.apply_along_axis(lambda col: [min(col), max(col)], axis=0, arr=x)\n",
    "    xx = np.array([np.linspace(r[0], r[1], length_out) for r in rx.T])\n",
    "    xgrid = pd.DataFrame(np.array(np.meshgrid(*xx)).T.reshape(-1, len(xx)), columns=x.columns)\n",
    "    return xgrid\n",
    "\n",
    "\n",
    "\n",
    "colnames=[\"SepalLength\", \"SepalWidth\", \"PetalLength\",\"PetalWidth\",\"IrisClass\"]\n",
    "iris = pd.read_csv('https://archive.ics.uci.edu/ml/machine-learning-databases/iris/iris.data', header=None,names=colnames)\n",
    "levels = [\"Iris-setosa\",\"Iris-versicolor\",\"Iris-virginica\"]\n",
    "numerals = [-1,1,2]\n",
    "iris[\"y\"]=iris.iloc[:, 4].replace(levels, numerals)\n",
    "\n",
    "y = iris.loc[0:99, \"y\"].astype(int)\n",
    "x = (iris.loc[0:99, [\"PetalLength\",\"PetalWidth\"]] - iris.loc[0:99, [\"PetalLength\",\"PetalWidth\"]].mean()) / iris.loc[0:99, [\"PetalLength\",\"PetalWidth\"]].std()\n",
    "\n",
    "xgrid = make_grid(x)\n",
    "\n",
    "plt.clf()\n",
    "plt.scatter(x.iloc[:, 0], x.iloc[:, 1], c=np.where(y == 1, 'red', 'blue'), alpha=1)\n",
    "plt.xlabel(iris.columns[2])\n",
    "plt.ylabel(iris.columns[3])\n",
    "plt.title(\"Iris Setosa vs Versicolor\")\n",
    "plt.show()\n",
    "\n",
    "# Create a DataFrame for convenience\n",
    "df = pd.DataFrame({\n",
    "    'PetalLength': x['PetalLength'],\n",
    "    'PetalWidth': x['PetalWidth'],\n",
    "    'y': y\n",
    "})"
   ]
  },
  {
   "cell_type": "markdown",
   "id": "7fef6437",
   "metadata": {},
   "source": [
    "We will code the Versicolor as 1 and Setosa as -1.  Given the data, we know how to fit a linear regression model\n",
    "\n",
    "$$y_i=w_0+w_2\\mbox{Petal.Width}_i+w_1\\mbox{Petal.Length}_i$$"
   ]
  },
  {
   "cell_type": "code",
   "execution_count": null,
   "id": "a94ac80f",
   "metadata": {
    "kernel": "Python3",
    "tags": [
     "report_cell"
    ]
   },
   "outputs": [],
   "source": [
    "# yy = 'y'\n",
    "# xx = \"PetalLength + PetalWidth\"\n",
    "# formula = '%s ~ %s' % (yy, xx)\n",
    "# fit0 = sm.ols(formula, data=iris).fit()\n",
    "# print( fit0.summary())\n",
    "\n",
    "fit0 = LinearRegression().fit(x, y)\n",
    "\n",
    "cf0 =np.concatenate((np.asarray([fit0.intercept_]),fit0.coef_))"
   ]
  },
  {
   "cell_type": "markdown",
   "id": "13b5cae8",
   "metadata": {},
   "source": [
    "The result defines a surface in 3D space\n",
    "$$y_i=0+0.25`\\mbox{Petal.Width}_i+0.73\\mbox{Petal.Length}_i$$\n",
    "What does the result look like?"
   ]
  },
  {
   "cell_type": "code",
   "execution_count": null,
   "id": "9093d855",
   "metadata": {
    "Rmd_chunk_options": "echo=FALSE",
    "jupyter": {
     "output_hidden": false,
     "source_hidden": true
    },
    "kernel": "Python3",
    "tags": [
     "report_output"
    ]
   },
   "outputs": [],
   "source": [
    "plt.clf()\n",
    "# Create a 3D scatter plot\n",
    "fig = plt.figure(figsize=(10, 8))\n",
    "ax = fig.add_subplot(111, projection='3d')\n",
    "ax.scatter(df['PetalLength'], df['PetalWidth'], df['y'], c=np.where(y == 1, 'red', 'blue'), marker='o', label='Data points')\n",
    "\n",
    "# Plot the fitted plane\n",
    "x_plane = np.linspace(df['PetalLength'].min(), df['PetalLength'].max(), 99)\n",
    "y_plane = np.linspace(df['PetalWidth'].min(), df['PetalWidth'].max(), 100)\n",
    "X_plane, Y_plane = np.meshgrid(x_plane, y_plane)\n",
    "Z_plane = cf0[0]+cf0[1] * X_plane + cf0[2] * Y_plane\n",
    "\n",
    "ax.plot_surface(X_plane, Y_plane, Z_plane, alpha=0.7, color='purple', label='Fitted Plane')\n",
    "\n",
    "# Set labels and title\n",
    "ax.set_xlabel('Petal Length')\n",
    "ax.set_ylabel('Petal Width')\n",
    "ax.set_zlabel('y')\n",
    "ax.set_title('3D Scatterplot with Fitted Plane')\n",
    "\n",
    "plt.show()"
   ]
  },
  {
   "cell_type": "code",
   "execution_count": null,
   "id": "e643fe43",
   "metadata": {
    "Rmd_chunk_options": "echo=FALSE",
    "jupyter": {
     "output_hidden": false,
     "source_hidden": true
    },
    "kernel": "Python3",
    "tags": [
     "report_output"
    ]
   },
   "outputs": [],
   "source": [
    "# Scatter plot\n",
    "scatter = go.Scatter3d(\n",
    "    x=df['PetalLength'],\n",
    "    y=df['PetalWidth'],\n",
    "    z=df['y'],\n",
    "    mode='markers',\n",
    "    marker=dict(\n",
    "        size=5,\n",
    "        color=np.where(y == 1, 'red', 'blue'),\n",
    "        opacity=1\n",
    "    ),\n",
    "    name='Data points'\n",
    ")\n",
    "\n",
    "# Fitted plane\n",
    "x_plane = np.linspace(df['PetalLength'].min(), df['PetalLength'].max(), 100)\n",
    "y_plane = np.linspace(df['PetalWidth'].min(), df['PetalWidth'].max(), 100)\n",
    "X_plane, Y_plane = np.meshgrid(x_plane, y_plane)\n",
    "Z_plane = cf0[0] + cf0[1] * X_plane + cf0[2] * Y_plane\n",
    "\n",
    "fitted_plane = go.Surface(\n",
    "    x=X_plane,\n",
    "    y=Y_plane,\n",
    "    z=Z_plane,\n",
    "    opacity=0.7,\n",
    "    colorscale='Viridis',\n",
    "    showscale=False,\n",
    "    name='Fitted Plane'\n",
    ")\n",
    "\n",
    "layout = go.Layout(\n",
    "    scene=dict(\n",
    "        xaxis=dict(title='Petal Length'),\n",
    "        yaxis=dict(title='Petal Width'),\n",
    "        zaxis=dict(title='y'),\n",
    "        aspectmode='cube',\n",
    "        camera=dict(eye=dict(x=1.2, y=1.2, z=1.2))\n",
    "    ),\n",
    "    title='3D Scatterplot with Fitted Plane'\n",
    ")\n",
    "\n",
    "fig = go.Figure(data=[scatter, fitted_plane], layout=layout)\n",
    "fig.show()"
   ]
  },
  {
   "cell_type": "markdown",
   "id": "1d187f22",
   "metadata": {},
   "source": [
    "All the versicolor points are above the plane and all the setosa points are below."
   ]
  },
  {
   "cell_type": "markdown",
   "id": "0398e399",
   "metadata": {},
   "source": [
    "#### separating hyperpane\n",
    "\n",
    "If we draw into the figure a line that this plane and a plane at 0 intersect, we get a separating hyperplane.\n",
    "You can get them by solving for $f(x)=0$.  So in terms of Petal Length\n",
    "$$\\mbox{Petal.Width}= - \\frac{w_0}{w_2} - \\frac{w_1}{w_2} \\mbox{Petal.Length}$$"
   ]
  },
  {
   "cell_type": "code",
   "execution_count": null,
   "id": "07d4bb31",
   "metadata": {
    "Rmd_chunk_options": "echo=FALSE,eval=TRUE",
    "jupyter": {
     "output_hidden": false,
     "source_hidden": true
    },
    "kernel": "Python3",
    "tags": [
     "report_output"
    ]
   },
   "outputs": [],
   "source": [
    "df = pd.DataFrame({'Petal.Length': x.iloc[:, 0], 'Petal.Width': x.iloc[:, 1], 'y': y})\n",
    "\n",
    "\n",
    "intercept=-cf0[0] / cf0[2]\n",
    "slope=-cf0[1] / cf0[2]\n",
    "abline_values = [ slope * i +  intercept for i in df['Petal.Length']]\n",
    "\n",
    "plt.clf()\n",
    "\n",
    "# Plotting the scatter plot\n",
    "plt.scatter(x.iloc[:, 0], x.iloc[:, 1], c=np.where(y == 1, 'red', 'blue'), alpha=1)\n",
    "plt.plot(x.iloc[:, 0], abline_values, 'b')\n",
    "plt.xlabel('Petal.Length')\n",
    "plt.ylabel('Petal.Width')\n",
    "plt.title('Iris Setosa vs Versicolor')\n",
    "\n",
    "plt.show()"
   ]
  },
  {
   "cell_type": "markdown",
   "id": "25d301e7",
   "metadata": {},
   "source": [
    "The linear model can differentiate binary outcomes.  So why do we need anything else?  The problem is that the loss function does not align with our objective.  If you look at the example below, the green and red points are separated well with a blue line.  Therefore, you are pretty sure any value above 4 is green.  Fitting the regression without one large point (very sure point) gives you the correct decision boundary.  However, with the squared error, larger values play the role of leverage point distorting the decision boundary, which contradicts what we want.  We will return to how we will deal with this later in the semester.  But for now, let's use a loss function that is more suitable for the data."
   ]
  },
  {
   "cell_type": "code",
   "execution_count": null,
   "id": "3e95b6c4",
   "metadata": {
    "kernel": "Python3",
    "tags": [
     "report_cell"
    ]
   },
   "outputs": [],
   "source": [
    "xt = np.array([1, 2, 3, 5, 6, 7, 25])\n",
    "yt = np.array([-1, -1, -1, 1, 1, 1, 1])\n",
    "\n",
    "# Plot 1\n",
    "plt.subplot(1, 3, 1)\n",
    "plt.scatter(xt, yt, c=[\"red\", \"red\", \"red\", \"green\", \"green\", \"green\", \"green\"], cmap='viridis')\n",
    "plt.ylim(-1,1)\n",
    "plt.axvline(x=4, color='blue')\n",
    "plt.title('Original Plot')\n",
    "plt.xlabel('x')\n",
    "plt.ylabel('y')\n",
    "\n",
    "# Plot 2\n",
    "plt.subplot(1, 3, 2)\n",
    "plt.scatter(xt, yt, c=[\"red\", \"red\", \"red\", \"green\", \"green\", \"green\", \"white\"])\n",
    "plt.title('Without Sure Value')\n",
    "plt.axhline(y=0, linestyle='--', color='grey')\n",
    "plt.axvline(x=4, color='blue')\n",
    "plt.ylim(-1,1)\n",
    "# Fitting a line for x < 10\n",
    "mask = xt < 10\n",
    "lm = LinearRegression().fit(xt[mask].reshape(-1, 1), yt[mask])\n",
    "plt.plot(xt[mask], lm.predict(xt[mask].reshape(-1, 1)), color='grey')\n",
    "\n",
    "# Plot 3\n",
    "plt.subplot(1, 3, 3)\n",
    "plt.scatter(xt, yt, c=[\"red\", \"red\", \"red\", \"green\", \"green\", \"green\", \"green\"])\n",
    "plt.title('With Sure Value')\n",
    "plt.axhline(y=0, linestyle='--', color='grey')\n",
    "\n",
    "# Fitting a line for all data points\n",
    "lm_all = LinearRegression().fit(xt.reshape(-1, 1), yt)\n",
    "plt.plot(xt, lm_all.predict(xt.reshape(-1, 1)), color='grey')\n",
    "plt.axvline(x=-lm_all.intercept_ / lm_all.coef_[0], color='blue')\n",
    "plt.ylim(-1,1)\n",
    "plt.tight_layout()\n",
    "plt.show()"
   ]
  },
  {
   "cell_type": "markdown",
   "id": "f4deb5ef",
   "metadata": {},
   "source": [
    "### [Logistic Regression](https://en.wikipedia.org/wiki/Logistic_regression)\n",
    "\n",
    "- [Logit function](https://en.wikipedia.org/wiki/Logit) is a mathematical function that transforms a probability ($\\pi \\in (0,1)$) into log [odds](https://en.wikipedia.org/wiki/Odds)\n",
    "$$logit(\\pi) = \\log\\left(\\frac{\\pi}{1-\\pi}\\right)$$\n",
    "\n",
    "- Logistic regression is a regression model for binary outcomes $y_i\\in \\{0,1\\}$, $i = 1,\\dots n$.  If we let $\\pi_i$ be the probability of $y_i=1$, the modeler's interest is understanding what factors affect this probability.  It is similar to linear regression, however, the big distinction is that $\\pi_i$ is bounded between 0 and 1.  One can still fit a linear regression model; it’s just that all the estimates will be off beyond the boundaries.\n",
    "- To avoid such an issue, rather than fitting a linear model on $\\pi_i$ we can fit a linear model on $logit(\\pi_i)$:\n",
    "\\begin{align}\n",
    "logit(\\pi_i) &= \\mathbf{x}_i\\boldsymbol{\\beta}\n",
    "\\end{align}\n",
    "because $logit(\\pi_i)$ is unbounded, this is a much better transformation for applying a linear model.\n",
    "\n",
    "- We can also denote the model using the inverse logit function as a nonlinear model on the probability of success $\\pi_i$:\n",
    "$$P(y_i=1|\\mathbf{x}_i) = \\pi_i= logit^{-1}(\\mathbf{x}_i\\boldsymbol{\\beta})=\\frac{e^{\\mathbf{x}_i\\boldsymbol{\\beta}}}{1+e^{\\mathbf{x}_i\\boldsymbol{\\beta}}}=\\frac{1}{1+e^{-\\mathbf{x}_i\\boldsymbol{\\beta}}}$$\n",
    "\n",
    "- Logistic regression coefficient $\\boldsymbol{\\beta}$ is often estimated using Maximum Likelihood.\n",
    "\n",
    "----"
   ]
  },
  {
   "cell_type": "markdown",
   "id": "8ec879e8",
   "metadata": {},
   "source": [
    "#### Likelihood\n",
    "\n",
    "- For a binary outcome, the natural choice of a probability distribution is the Bernoulli distribution.\n",
    "\\begin{align}\n",
    "y_i &= Bernoulli(\\pi_i)\n",
    "\\end{align}\n",
    "\n",
    "- The likelihood for observation $i$ is defined as\n",
    "$$f(y_i | \\mathbf{x}_i,\\boldsymbol{\\beta})= \\pi_i^{y_i} (1-\\pi_i)^{(1-y_i)}$$ where\n",
    "$$\\pi_i=logit^{-1}(\\mathbf{x}_i\\boldsymbol{\\beta})=\\frac{\\exp(\\mathbf{x}_i\\boldsymbol{\\beta})}{1+\\exp(\\mathbf{x}_i\\boldsymbol{\\beta})}$$\n",
    "- The log-likelihood is\n",
    "\\begin{align}\n",
    "\\log(f(y_i|\\boldsymbol{\\beta}))&=\\log\\left(\\pi_i^{y_i} (1-\\pi_i)^{(1-y_i)}\\right)\\\\\n",
    "&= \\log\\left(\\pi_i^{y_i}\\right)+\\log\\left( (1-\\pi_i)^{(1-y_i)}\\right)\\\\\n",
    "&= y_i\\log(\\pi_i)+(1-y_i)\\log( 1-\\pi_i)\\\\\n",
    "&= y_i\\log\\pi_i - y_i\\log(1-\\pi_i) +\\log(1-\\pi_i)\n",
    "\\end{align}\n",
    "\n",
    "\n",
    "----"
   ]
  },
  {
   "cell_type": "markdown",
   "id": "4a1c4773",
   "metadata": {},
   "source": [
    "#### Joint log-likelihood\n",
    "\n",
    "- Assuming the observations are iid the joint log-likelihood for $n$ observations is a product of the individual likelihoods, which is the sum of the log-likelihoods.\n",
    "\\begin{align}\n",
    "l(\\boldsymbol{\\beta};\\mathbf{y})&= \\sum_i( y_i\\log\\pi_i - y_i\\log(1-\\pi_i) +\\log(1-\\pi_i))\\\\\n",
    "&=\\sum_i^N\\left( y_i(\\log\\pi_i-\\log(1-\\pi_i)) + \\log(1-\\pi_i)\\right)\\\\\n",
    "&=\\sum_i^N\\left( y_i\\left(\\log\\left(\\frac{\\pi_i}{\\log(1-\\pi_i)}\\right)\\right) + \\log(1-\\pi_i)\\right)\\\\\n",
    "&=\\sum_i^N\\left( y_i\\left(\\mathbf{x}_i\\boldsymbol{\\beta}\\right) + \\log\\left(\\frac{1}{1+\\exp(\\mathbf{x}_i\\boldsymbol{\\beta})}\\right)\\right)\\\\\n",
    "&=\\sum_i^N\\left( y_i(\\mathbf{x}_i\\boldsymbol{\\beta}) - \\log\\left(1+\\exp\\left(\\mathbf{x}_i\\boldsymbol{\\beta}\\right)\\right)\\right)\\\\\n",
    "\\end{align}\n",
    "\n",
    "----"
   ]
  },
  {
   "cell_type": "markdown",
   "id": "c70f692f",
   "metadata": {},
   "source": [
    "#### Model fitting"
   ]
  },
  {
   "cell_type": "markdown",
   "id": "4a4751c1",
   "metadata": {},
   "source": [
    "#### Calculating the first and second moments\n",
    "\n",
    "- If we calculate the score function for $\\beta_k$ by taking the derivative of the joint log-likelihood wrt $\\beta_k$\n",
    "\\begin{align}\n",
    "s_k(\\boldsymbol{\\beta})=\\frac{\\partial l(\\boldsymbol{\\beta};\\mathbf{y})}{\\partial \\beta_k}&=\\frac{\\partial }{\\partial \\beta_k}\\sum_i^N( y_i(\\mathbf{x}_i\\boldsymbol{\\beta}) - \\log(1+\\exp(\\mathbf{x}_i\\boldsymbol{\\beta})))\\\\\n",
    "&=\\sum_i^N \\left( y_i x_{ik} - \\frac{\\exp(\\mathbf{x}_i\\boldsymbol{\\beta})}{(1+\\exp(\\mathbf{x}_i\\boldsymbol{\\beta}))}x_{ik}\\right)\\\\\n",
    "&=\\sum_i^N ( y_i x_{ik} - \\pi_ix_{ik})=\\sum_i^N x_{ik}( y_i  - \\pi_i)\\\\\n",
    "\\end{align}\n",
    "We can collect this into a vector\n",
    "\\begin{align}\n",
    "s(\\boldsymbol{\\beta})=\\left[\n",
    "\\begin{array}{c}\n",
    "s_1(\\boldsymbol{\\beta})\\\\\n",
    "s_2(\\boldsymbol{\\beta})\\\\\n",
    "\\vdots\\\\\n",
    "s_p(\\boldsymbol{\\beta})\n",
    "\\end{array}\n",
    "\\right]=\n",
    "\\left[\n",
    "\\begin{array}{c}\n",
    "\\sum_i^N x_{i1}( y_i  - \\pi_i)\\\\\n",
    "\\sum_i^N x_{i2}( y_i  - \\pi_i)\\\\\n",
    "\\vdots\\\\\n",
    "\\sum_i^N x_{ip}( y_i  - \\pi_i)\n",
    "\\end{array}\n",
    "\\right]=\\sum_i^N \\mathbf{x}_{i}( y_i  - \\pi_i)=\\sum_i^N s(\\boldsymbol{\\beta})_i\n",
    "\\end{align}\n",
    "- Noting that $E(s(\\boldsymbol{\\beta})_i)=\\mathbf{0}$ we can calculate the expected Fisher Information for observation $i$ as\n",
    "$$F(\\boldsymbol{\\beta})_i=Cov(s(\\boldsymbol{\\beta})_i)=E(s(\\boldsymbol{\\beta})_is(\\boldsymbol{\\beta})_i^T)$$\n",
    "\\begin{align}\n",
    "E(s(\\boldsymbol{\\beta})_is(\\boldsymbol{\\beta})_i^T)&=E\\left(\\mathbf{x}_{i}( y_i  - \\pi_i)(\\mathbf{x}_{i}( y_i  - \\pi_i))^T\\right)\\\\\n",
    "&=E\\left(\\mathbf{x}_{i}\\mathbf{x}_{i}^T( y_i  - \\pi_i)^2\\right)\\\\\n",
    "&=\\mathbf{x}_{i}\\mathbf{x}_{i}^T E\\left(( y_i  - \\pi_i)^2\\right)\\\\\n",
    "&=\\mathbf{x}_{i}\\mathbf{x}_{i}^T Var\\left( y_i\\right)\\\\\n",
    "&=\\mathbf{x}_{i}\\mathbf{x}_{i}^T \\pi_i(1-\\pi_i)\n",
    "\\end{align}\n",
    "The Fisher Information for all $n$ observations is\n",
    "$$F(\\boldsymbol{\\beta})=\\sum_i^nF(\\boldsymbol{\\beta})_i=\\sum_i^n\\mathbf{x}_{i}\\mathbf{x}_{i}^T \\pi_i(1-\\pi_i)$$\n",
    "<!-- \\frac{\\partial^2 l(\\boldsymbol{\\beta};\\mathbf{y})}{\\partial \\beta_{k} \\partial \\beta_{k'}}  -->\n",
    "<!-- &=-\\sum_i^N \\left( \\frac{\\exp(\\mathbf{x}_i\\boldsymbol{\\beta})}{(1+\\exp(\\mathbf{x}_i\\boldsymbol{\\beta}))}\\right)\\\\ -->\n",
    "<!-- &=-\\sum_i^N (x_{ik} \\pi_i(1-\\pi_i) x_{ik'})\\\\ -->\n",
    "- We will not show it here, but the observed and the expected Fisher Information coincides for the logistic regression model.  This is not true in general.\n",
    "- We can also collect the terms into a matrix by using\n",
    "$$\\mathbf{y}\n",
    "=\n",
    "\\left[\n",
    "\\begin{array}{c}\n",
    "y_{1}\\\\\n",
    "y_{2}\\\\\n",
    "\\vdots\\\\\n",
    "y_n\n",
    "\\end{array}\n",
    "\\right]\\mbox{, }\n",
    "\\boldsymbol{\\mu}=\\left[\n",
    "\\begin{array}{c}\n",
    "\\pi_{1}\\\\\n",
    "\\pi_{2}\\\\\n",
    "\\vdots\\\\\n",
    "\\pi_n\n",
    "\\end{array}\n",
    "\\right]\\mbox{, }\n",
    "\\mathbf{X}\n",
    "=\n",
    "\\left[\n",
    "\\begin{array}{c}\n",
    "\\mathbf{x}_{1}^T\\\\\n",
    "\\mathbf{x}_{2}^T\\\\\n",
    "\\vdots\\\\\n",
    "\\mathbf{x}_{n}^T\n",
    "\\end{array}\n",
    "\\right]\\mbox{, }\n",
    "\\mathbf{W}\n",
    "=\n",
    "\\left[\n",
    "\\begin{array}{ccc}\n",
    "\\pi_{1}(1-\\pi_{1})&\\cdots&&0\\\\\n",
    "0&\\pi_{2}(1-\\pi_{2})&\\cdots&0\\\\\n",
    "\\vdots&\\ddots&&\\vdots\\\\\n",
    "0&\\cdots&&\\pi_{n}(1-\\pi_{n})\n",
    "\\end{array}\n",
    "\\right]$$\n",
    "We can express the score function as\n",
    "$$\n",
    "s(\\boldsymbol{\\beta})=\\sum_i^N \\mathbf{x}_{i}( y_i  - \\pi_i)= \\mathbf{X}^T( \\mathbf{y}  - \\boldsymbol{\\mu})\n",
    "$$\n",
    "and the Fisher Information as\n",
    "$$F(\\boldsymbol{\\beta})=\\sum_i^n\\mathbf{x}_{i}\\mathbf{x}_{i}^T \\pi_i(1-\\pi_i)=\\mathbf{X}^T\\mathbf{W}\\mathbf{X}$$\n",
    "<!-- - The critical value will be maximum if this matrix is negative definite. -->\n",
    "<!-- - Also, this forms a variance covariance matrix of the parameter estimates. -->\n",
    "\n",
    "- We use the Newton–Raphson or Fisher scoring algorithm to get the maximum likelihood.\n",
    "\n",
    "\n",
    "----"
   ]
  },
  {
   "cell_type": "markdown",
   "id": "54936906",
   "metadata": {},
   "source": [
    "#### Newton-Raphson Method for logistic regression\n",
    "\n",
    "- The details of the Newton-Raphson method for finding the maximum likelihood are as follows.\n",
    "\n",
    "1. You start with a guess of the parameters $\\boldsymbol{\\beta}^{(0)}$.\n",
    "2. With every iteration $t$ update\n",
    "$$\n",
    "\\boldsymbol{\\beta}^{(t+1)}=\\boldsymbol{\\beta}^{(t)}+\\left[F\\left(\\boldsymbol{\\beta}^{(t)}\\right)\\right]^{-1}s\\left(\\boldsymbol{\\beta}^{(t)}\\right)\n",
    "$$\n",
    "\n",
    "- If we substitute in\n",
    "$$s(\\boldsymbol{\\beta})=\\mathbf{X}^{T}(\\mathbf{y}-\\boldsymbol{\\mu})$$\n",
    "where $\\boldsymbol{\\mu}$ be vector where $\\mu_i = \\pi_i$\n",
    "- And\n",
    "$$F(\\boldsymbol{\\beta})=-\\mathbf{X}^{T}\\mathbf{W}\\mathbf{X}$$\n",
    "where $\\mathbf{W}$ be a diagonal matrix where $w_{ii} = \\pi_i(1-\\pi_i)$.\n",
    "\n",
    "- Therefore, the coefficient estimates at iteration $t$, $\\boldsymbol{\\beta}^{(t)}$ is updated to $\\boldsymbol{\\beta}^{(t+1)}$ using the following formula:\n",
    "$$\n",
    "\\boldsymbol{\\beta}^{(t+1)}=\\boldsymbol{\\beta}^{(t)}+[\\mathbf{X}^{T}\\mathbf{W}^{(t)}\\mathbf{X}]^{-1}\\mathbf{X}^{T}(\\mathbf{y}-\\boldsymbol{\\mu}^{(t)})\n",
    "$$\n",
    "note here that $\\boldsymbol{\\mu}^{(t)}$ and $\\mathbf{W}^{(t)}$ changes with the state of $\\boldsymbol{\\beta}^{(t)}$.\n",
    "\n",
    "\n",
    "----"
   ]
  },
  {
   "cell_type": "markdown",
   "id": "85be1752",
   "metadata": {},
   "source": [
    "#### Newton-Raphson using R\n",
    "\n",
    "- The Newton-Raphson algorithm for logistic regression can be implemented using just a couple of lines of code."
   ]
  },
  {
   "cell_type": "code",
   "execution_count": null,
   "id": "8243b878",
   "metadata": {
    "kernel": "Python3",
    "tags": [
     "report_cell"
    ]
   },
   "outputs": [],
   "source": [
    "def NewtonRaphson(y, desmat, beta_init_guess, maxiter=20):\n",
    "    beta_guess = np.empty((2, maxiter+1))\n",
    "    beta_guess[:, 0] = beta_init_guess\n",
    "\n",
    "    for i in range(1, maxiter+1):\n",
    "        pi_guess = expit(np.dot(desmat, beta_guess[:, i-1]))\n",
    "        wii = pi_guess * (1 - pi_guess)\n",
    "        lb = np.dot(desmat.T, y - pi_guess)\n",
    "        llbinv = np.linalg.solve(np.dot(np.dot(desmat.T, np.diag(wii)), desmat), np.eye(2))\n",
    "        beta_guess[:, i] = beta_guess[:, i-1] + np.dot(llbinv, lb)\n",
    "\n",
    "    return beta_guess"
   ]
  },
  {
   "cell_type": "code",
   "execution_count": null,
   "id": "2faf49de",
   "metadata": {
    "Rmd_chunk_options": "echo=TRUE",
    "kernel": "Python3",
    "tags": [
     "report_cell"
    ]
   },
   "outputs": [],
   "source": [
    "# Generate fake data\n",
    "x = np.random.normal(size=1000)\n",
    "y = np.random.binomial(1, p=1 / (1 + np.exp(-1 * (1 + x * 3))), size=1000)\n",
    "desmat = np.column_stack((np.ones_like(x), x))\n",
    "\n",
    "# Run the algorithm\n",
    "beta_guess=NewtonRaphson(y,desmat,beta_init_guess=[0.1,0.1])"
   ]
  },
  {
   "cell_type": "markdown",
   "id": "ff39c81d",
   "metadata": {},
   "source": [
    "- Below, each point is an estimate at a particular iteration."
   ]
  },
  {
   "cell_type": "code",
   "execution_count": null,
   "id": "d2624842",
   "metadata": {
    "Rmd_chunk_options": "echo=FALSE,fig.height=3,fig.width=3",
    "jupyter": {
     "output_hidden": false,
     "source_hidden": true
    },
    "kernel": "Python3",
    "tags": [
     "report_output"
    ]
   },
   "outputs": [],
   "source": [
    "# Plotting\n",
    "plt.figure(figsize=(10, 6))\n",
    "plt.plot([1, 20], [0, 4], 'k--', alpha=0,color='red')\n",
    "\n",
    "plt.plot(range(1, 22), beta_guess[1, :], alpha=0.3, color='black')\n",
    "\n",
    "plt.axhline(y = 3, color = 'r', linestyle = '--',label='True Beta')\n",
    "plt.xlabel('Iteration')\n",
    "plt.ylabel('Beta')\n",
    "plt.legend()\n",
    "plt.show()"
   ]
  },
  {
   "cell_type": "markdown",
   "id": "2ff93f79",
   "metadata": {},
   "source": [
    "As you can see, the algorithm starts from a guess and quickly approaches the actual value, which is expressed using a dashed horizontal red line.\n",
    "\n",
    "- We can generate the data many times and run the algorithm repeatedly.  Below, we plot the trace of each algorithm.  Notice there that there is variability in the estimate due to sampling."
   ]
  },
  {
   "cell_type": "code",
   "execution_count": null,
   "id": "423a3da8",
   "metadata": {
    "Rmd_chunk_options": "out.width=\"90%\"",
    "kernel": "Python3",
    "tags": [
     "report_cell"
    ]
   },
   "outputs": [],
   "source": [
    "np.random.seed(123)\n",
    "kk = 20\n",
    "beta_guess_list = []\n",
    "\n",
    "niter = 19\n",
    "for k in range(1, kk + 1):\n",
    "    x = np.random.normal(size=1000)\n",
    "    y = np.random.binomial(1, p=1 / (1 + np.exp(-1 * (1 + x * 3))), size=1000)\n",
    "\n",
    "    beta_guess = np.zeros((2, niter + 1))\n",
    "    beta_guess[:, 0] = [0.1, 0.1]\n",
    "    desmat = np.column_stack((np.ones_like(x), x))\n",
    "\n",
    "    for i in range(1, niter + 1):\n",
    "        pi_guess = 1 / (1 + np.exp(-np.dot(desmat, beta_guess[:, i-1])))\n",
    "        wii = pi_guess * (1 - pi_guess)\n",
    "        lb = np.dot(desmat.T, y - pi_guess)\n",
    "        llbinv =np.linalg.solve( np.dot(np.dot(desmat.T, np.diag(wii)), desmat), np.eye(2))\n",
    "        beta_guess[:, i] = beta_guess[:, i - 1] + np.dot(llbinv, lb)\n",
    "\n",
    "    beta_guess_list.append(beta_guess)\n",
    "\n",
    "\n",
    "# Plotting\n",
    "plt.figure(figsize=(10, 6))\n",
    "plt.plot([1, 20], [0, 4], 'k--', alpha=0,color='red')\n",
    "\n",
    "for k in range(kk):\n",
    "    plt.plot(range(1, niter + 2), beta_guess_list[k][1, :], alpha=0.3, color='black')\n",
    "\n",
    "plt.axhline(y = 3, color = 'r', linestyle = '--',label='True Beta')\n",
    "plt.xlabel('Iteration')\n",
    "plt.ylabel('Beta')\n",
    "plt.legend()\n",
    "plt.show()"
   ]
  },
  {
   "cell_type": "markdown",
   "id": "b4e46f59",
   "metadata": {},
   "source": [
    "#### Generative vs discriminative\n",
    "\n",
    "Notice that this likelihood $\\prod^n_{i=1}f(y_i=1\\mid \\mathbf{x}_i,\\boldsymbol{\\beta})$ is a likelihood WRT $\\mathbf{y}$ which ignores $\\mathbf{X}$s (or treats it as given) thus it is termed partial-likelihood.  In discriminative studies where the study focuses on the model's performance on tasks such as classification, this is the objective being used.\n",
    "\n",
    "On the other hand, where interest is understanding the mechanism that generated the data, we need a generative model where the interest is on modeling the full-likelihood as $\\prod^n_{i=1}f(y_i=1,\\mathbf{x}_i\\mid \\boldsymbol{\\beta})$.\n",
    "Notice full likelihood can be factored as\n",
    "$$\n",
    "\\prod^n_{i=1}f(y_i=1,\\mathbf{x}_i\\mid \\boldsymbol{\\beta})=\\prod^n_{i=1}f(\\mathbf{x}_i\\mid \\boldsymbol{\\beta})f(y_i=1\\mid \\mathbf{x}_i,\\boldsymbol{\\beta})\n",
    "$$\n",
    "which is the partial-likelihood used in logistic regression  $\\prod^n_{i=1}f(y_i=1\\mid \\mathbf{x}_i,\\boldsymbol{\\beta})$ times $f(\\mathbf{x}_i\\mid \\boldsymbol{\\beta})$ term.  This term can be thought of as observed data likelihood.  If there is information about $\\boldsymbol{\\beta}$ in the observed data, ignoring this term results in a loss of information.  Alternatively, if we factor the full likelihood as a generative model\n",
    "$$\n",
    "\\prod^n_{i=1}p(y_i=1,\\mathbf{x}_i\\mid \\boldsymbol{\\beta})=\\prod^n_{i=1}p(y_i=1\\mid \\boldsymbol{\\beta})p(\\mathbf{x}_i\\mid y_i,\\boldsymbol{\\beta})\n",
    "$$\n",
    "Then you can think of $p(y_i=1\\mid \\boldsymbol{\\beta})$ term as the prior distribution similar to Naive Bayes.\n",
    "\n",
    "The likelihood $f(\\mathbf{x}_i\\mid y_i,\\boldsymbol{\\beta})$ can be partitioned into two\n",
    "  \\begin{eqnarray}\n",
    "  f(\\mathbf{x}_i\\mid y_i,\\beta)\\left\\{\n",
    "    \\begin{array}{l}\n",
    "    f(\\mathbf{x}_i\\mid y_i=1,\\beta)=p_{+}(X)\\\\\n",
    "    f(\\mathbf{x}_i\\mid y_i=0,\\beta)=p_{-}(X)\n",
    "    \\end{array}\n",
    "    \\right.\n",
    "\\end{eqnarray}\n",
    "\n",
    "$$\n",
    "logit(\\pi_i) = log\\frac{f(y_i=1\\mid \\mathbf{x}_i, \\boldsymbol{\\beta})}{f(y_i=0\\mid \\mathbf{x}_i, \\boldsymbol{\\beta})}=log \\frac{f(\\mathbf{x}_i\\mid y_i=1,\\boldsymbol{\\beta})f(y_i=1\\mid \\boldsymbol{\\beta})}{f(\\mathbf{x}_i\\mid y_i=0,\\boldsymbol{\\beta})f(y_i=0\\mid  \\boldsymbol{\\beta})}\n",
    "$$\n",
    "In logistic regression with a threshold of 0.5, we predict the outcome to be 1 if this quantity is positive.  In naive Bayes with two classes, we predict 1 when the right-hand side ratio exceeds 1. You can work out the details to show how they connect. Logistic regression and naive Bayes / normal discriminant analysis are referred to as a generative-discriminative pair. The predictive performances are comparable and depend on the data and how closely they match the model's assumptions. You can read more about it in Ng & Jordan (2002)."
   ]
  }
 ],
 "metadata": {
  "Rmd_chunk_options": {
   "date": "2024-01-02",
   "output": "html_document",
   "title": "Classification"
  },
  "kernelspec": {
   "display_name": "Python 3 (ipykernel)",
   "language": "python",
   "name": "python3"
  },
  "language_info": {
   "codemirror_mode": {
    "name": "ipython",
    "version": 3
   },
   "file_extension": ".py",
   "mimetype": "text/x-python",
   "name": "python",
   "nbconvert_exporter": "python",
   "pygments_lexer": "ipython3",
   "version": "3.8.18"
  },
  "sos": {
   "kernels": [
    [
     "SoS",
     "sos",
     "",
     ""
    ],
    [
     "R",
     "R",
     "",
     ""
    ],
    [
     "Python3",
     "ir",
     "",
     ""
    ],
    [
     "css",
     "css",
     "",
     ""
    ]
   ]
  }
 },
 "nbformat": 4,
 "nbformat_minor": 5
}
